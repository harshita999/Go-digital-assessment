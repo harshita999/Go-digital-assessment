{
 "cells": [
  {
   "cell_type": "code",
   "execution_count": 1,
   "id": "03f4218a",
   "metadata": {},
   "outputs": [],
   "source": [
    "import numpy as np\n",
    "import pandas as pd\n",
    "\n",
    "import warnings\n",
    "warnings.filterwarnings('ignore')"
   ]
  },
  {
   "cell_type": "code",
   "execution_count": 2,
   "id": "36a8794d",
   "metadata": {},
   "outputs": [
    {
     "data": {
      "text/html": [
       "<div>\n",
       "<style scoped>\n",
       "    .dataframe tbody tr th:only-of-type {\n",
       "        vertical-align: middle;\n",
       "    }\n",
       "\n",
       "    .dataframe tbody tr th {\n",
       "        vertical-align: top;\n",
       "    }\n",
       "\n",
       "    .dataframe thead th {\n",
       "        text-align: right;\n",
       "    }\n",
       "</style>\n",
       "<table border=\"1\" class=\"dataframe\">\n",
       "  <thead>\n",
       "    <tr style=\"text-align: right;\">\n",
       "      <th></th>\n",
       "      <th>AGENT_ID</th>\n",
       "      <th>AGENT_NAME</th>\n",
       "      <th>DATE_OF_JOINING</th>\n",
       "      <th>ADDRESS_LINE1</th>\n",
       "      <th>ADDRESS_LINE2</th>\n",
       "      <th>CITY</th>\n",
       "      <th>STATE</th>\n",
       "      <th>POSTAL_CODE</th>\n",
       "      <th>EMP_ROUTING_NUMBER</th>\n",
       "      <th>EMP_ACCT_NUMBER</th>\n",
       "    </tr>\n",
       "  </thead>\n",
       "  <tbody>\n",
       "    <tr>\n",
       "      <th>0</th>\n",
       "      <td>AGENT00001</td>\n",
       "      <td>Ray Johns</td>\n",
       "      <td>05-06-1993</td>\n",
       "      <td>1402 Maggies Way</td>\n",
       "      <td>NaN</td>\n",
       "      <td>Waterbury Center</td>\n",
       "      <td>VT</td>\n",
       "      <td>5677</td>\n",
       "      <td>34584958</td>\n",
       "      <td>HKUN51252328472585</td>\n",
       "    </tr>\n",
       "    <tr>\n",
       "      <th>1</th>\n",
       "      <td>AGENT00002</td>\n",
       "      <td>Angelo Borjon</td>\n",
       "      <td>27-12-2005</td>\n",
       "      <td>414 Tanya Pass</td>\n",
       "      <td>NaN</td>\n",
       "      <td>Panama City</td>\n",
       "      <td>FL</td>\n",
       "      <td>32404</td>\n",
       "      <td>107363763</td>\n",
       "      <td>OPIS19290040088204</td>\n",
       "    </tr>\n",
       "    <tr>\n",
       "      <th>2</th>\n",
       "      <td>AGENT00003</td>\n",
       "      <td>Candy Spellman</td>\n",
       "      <td>02-09-2003</td>\n",
       "      <td>606 National Street</td>\n",
       "      <td>#306</td>\n",
       "      <td>Fayetteville</td>\n",
       "      <td>AR</td>\n",
       "      <td>72701</td>\n",
       "      <td>81744097</td>\n",
       "      <td>YSCJ67489688482590</td>\n",
       "    </tr>\n",
       "    <tr>\n",
       "      <th>3</th>\n",
       "      <td>AGENT00004</td>\n",
       "      <td>Mary Smith</td>\n",
       "      <td>23-09-2004</td>\n",
       "      <td>235 Hugh Thomas Drive</td>\n",
       "      <td>NaN</td>\n",
       "      <td>Panama City</td>\n",
       "      <td>FL</td>\n",
       "      <td>32404</td>\n",
       "      <td>67563771</td>\n",
       "      <td>ZANG21285355574581</td>\n",
       "    </tr>\n",
       "    <tr>\n",
       "      <th>4</th>\n",
       "      <td>AGENT00005</td>\n",
       "      <td>Mildred Diaz</td>\n",
       "      <td>21-06-2011</td>\n",
       "      <td>3426 Broadview Street</td>\n",
       "      <td>NaN</td>\n",
       "      <td>Montgomery</td>\n",
       "      <td>AL</td>\n",
       "      <td>36110</td>\n",
       "      <td>114951317</td>\n",
       "      <td>DZFS82244494451134</td>\n",
       "    </tr>\n",
       "  </tbody>\n",
       "</table>\n",
       "</div>"
      ],
      "text/plain": [
       "     AGENT_ID      AGENT_NAME DATE_OF_JOINING          ADDRESS_LINE1  \\\n",
       "0  AGENT00001       Ray Johns      05-06-1993       1402 Maggies Way   \n",
       "1  AGENT00002   Angelo Borjon      27-12-2005         414 Tanya Pass   \n",
       "2  AGENT00003  Candy Spellman      02-09-2003    606 National Street   \n",
       "3  AGENT00004      Mary Smith      23-09-2004  235 Hugh Thomas Drive   \n",
       "4  AGENT00005    Mildred Diaz      21-06-2011  3426 Broadview Street   \n",
       "\n",
       "  ADDRESS_LINE2              CITY STATE  POSTAL_CODE  EMP_ROUTING_NUMBER  \\\n",
       "0           NaN  Waterbury Center    VT         5677            34584958   \n",
       "1           NaN       Panama City    FL        32404           107363763   \n",
       "2          #306      Fayetteville    AR        72701            81744097   \n",
       "3           NaN       Panama City    FL        32404            67563771   \n",
       "4           NaN        Montgomery    AL        36110           114951317   \n",
       "\n",
       "      EMP_ACCT_NUMBER  \n",
       "0  HKUN51252328472585  \n",
       "1  OPIS19290040088204  \n",
       "2  YSCJ67489688482590  \n",
       "3  ZANG21285355574581  \n",
       "4  DZFS82244494451134  "
      ]
     },
     "execution_count": 2,
     "metadata": {},
     "output_type": "execute_result"
    }
   ],
   "source": [
    "df= pd.read_csv(r'employee_data.csv')\n",
    "df.head()"
   ]
  },
  {
   "cell_type": "code",
   "execution_count": 3,
   "id": "94e80690",
   "metadata": {},
   "outputs": [
    {
     "data": {
      "text/plain": [
       "(1200, 10)"
      ]
     },
     "execution_count": 3,
     "metadata": {},
     "output_type": "execute_result"
    }
   ],
   "source": [
    "df.shape"
   ]
  },
  {
   "cell_type": "code",
   "execution_count": 4,
   "id": "ad5c8a13",
   "metadata": {},
   "outputs": [
    {
     "data": {
      "text/html": [
       "<div>\n",
       "<style scoped>\n",
       "    .dataframe tbody tr th:only-of-type {\n",
       "        vertical-align: middle;\n",
       "    }\n",
       "\n",
       "    .dataframe tbody tr th {\n",
       "        vertical-align: top;\n",
       "    }\n",
       "\n",
       "    .dataframe thead th {\n",
       "        text-align: right;\n",
       "    }\n",
       "</style>\n",
       "<table border=\"1\" class=\"dataframe\">\n",
       "  <thead>\n",
       "    <tr style=\"text-align: right;\">\n",
       "      <th></th>\n",
       "      <th>TXN_DATE_TIME</th>\n",
       "      <th>TRANSACTION_ID</th>\n",
       "      <th>CUSTOMER_ID</th>\n",
       "      <th>POLICY_NUMBER</th>\n",
       "      <th>POLICY_EFF_DT</th>\n",
       "      <th>LOSS_DT</th>\n",
       "      <th>REPORT_DT</th>\n",
       "      <th>INSURANCE_TYPE</th>\n",
       "      <th>PREMIUM_AMOUNT</th>\n",
       "      <th>CLAIM_AMOUNT</th>\n",
       "      <th>...</th>\n",
       "      <th>CLAIM_STATUS</th>\n",
       "      <th>INCIDENT_SEVERITY</th>\n",
       "      <th>AUTHORITY_CONTACTED</th>\n",
       "      <th>ANY_INJURY</th>\n",
       "      <th>POLICE_REPORT_AVAILABLE</th>\n",
       "      <th>INCIDENT_STATE</th>\n",
       "      <th>INCIDENT_CITY</th>\n",
       "      <th>INCIDENT_HOUR_OF_THE_DAY</th>\n",
       "      <th>AGENT_ID</th>\n",
       "      <th>VENDOR_ID</th>\n",
       "    </tr>\n",
       "  </thead>\n",
       "  <tbody>\n",
       "    <tr>\n",
       "      <th>0</th>\n",
       "      <td>2020-06-01 00:00:00</td>\n",
       "      <td>TXN00000001</td>\n",
       "      <td>A00003822</td>\n",
       "      <td>PLC00008468</td>\n",
       "      <td>2015-06-23</td>\n",
       "      <td>2020-05-16</td>\n",
       "      <td>2020-05-21</td>\n",
       "      <td>Health</td>\n",
       "      <td>157.13</td>\n",
       "      <td>9000</td>\n",
       "      <td>...</td>\n",
       "      <td>A</td>\n",
       "      <td>Major Loss</td>\n",
       "      <td>Police</td>\n",
       "      <td>0</td>\n",
       "      <td>1</td>\n",
       "      <td>GA</td>\n",
       "      <td>Savannah</td>\n",
       "      <td>4</td>\n",
       "      <td>AGENT00413</td>\n",
       "      <td>VNDR00556</td>\n",
       "    </tr>\n",
       "    <tr>\n",
       "      <th>1</th>\n",
       "      <td>2020-06-01 00:00:00</td>\n",
       "      <td>TXN00000002</td>\n",
       "      <td>A00008149</td>\n",
       "      <td>PLC00009594</td>\n",
       "      <td>2018-04-21</td>\n",
       "      <td>2020-05-13</td>\n",
       "      <td>2020-05-18</td>\n",
       "      <td>Property</td>\n",
       "      <td>141.71</td>\n",
       "      <td>26000</td>\n",
       "      <td>...</td>\n",
       "      <td>A</td>\n",
       "      <td>Total Loss</td>\n",
       "      <td>Ambulance</td>\n",
       "      <td>1</td>\n",
       "      <td>0</td>\n",
       "      <td>AL</td>\n",
       "      <td>Montgomery</td>\n",
       "      <td>0</td>\n",
       "      <td>AGENT00769</td>\n",
       "      <td>VNDR00592</td>\n",
       "    </tr>\n",
       "    <tr>\n",
       "      <th>2</th>\n",
       "      <td>2020-06-01 00:00:00</td>\n",
       "      <td>TXN00000003</td>\n",
       "      <td>A00003172</td>\n",
       "      <td>PLC00007969</td>\n",
       "      <td>2019-10-03</td>\n",
       "      <td>2020-05-21</td>\n",
       "      <td>2020-05-26</td>\n",
       "      <td>Property</td>\n",
       "      <td>157.24</td>\n",
       "      <td>13000</td>\n",
       "      <td>...</td>\n",
       "      <td>A</td>\n",
       "      <td>Total Loss</td>\n",
       "      <td>Police</td>\n",
       "      <td>0</td>\n",
       "      <td>1</td>\n",
       "      <td>CO</td>\n",
       "      <td>Grand Junction</td>\n",
       "      <td>19</td>\n",
       "      <td>AGENT00883</td>\n",
       "      <td>VNDR00031</td>\n",
       "    </tr>\n",
       "    <tr>\n",
       "      <th>3</th>\n",
       "      <td>2020-06-01 00:00:00</td>\n",
       "      <td>TXN00000004</td>\n",
       "      <td>A00007572</td>\n",
       "      <td>PLC00009292</td>\n",
       "      <td>2016-11-29</td>\n",
       "      <td>2020-05-14</td>\n",
       "      <td>2020-05-19</td>\n",
       "      <td>Health</td>\n",
       "      <td>172.87</td>\n",
       "      <td>16000</td>\n",
       "      <td>...</td>\n",
       "      <td>A</td>\n",
       "      <td>Minor Loss</td>\n",
       "      <td>Ambulance</td>\n",
       "      <td>0</td>\n",
       "      <td>0</td>\n",
       "      <td>GA</td>\n",
       "      <td>Savannah</td>\n",
       "      <td>12</td>\n",
       "      <td>AGENT00278</td>\n",
       "      <td>VNDR00075</td>\n",
       "    </tr>\n",
       "    <tr>\n",
       "      <th>4</th>\n",
       "      <td>2020-06-01 00:00:00</td>\n",
       "      <td>TXN00000005</td>\n",
       "      <td>A00008173</td>\n",
       "      <td>PLC00000204</td>\n",
       "      <td>2011-12-26</td>\n",
       "      <td>2020-05-17</td>\n",
       "      <td>2020-05-22</td>\n",
       "      <td>Travel</td>\n",
       "      <td>88.53</td>\n",
       "      <td>3000</td>\n",
       "      <td>...</td>\n",
       "      <td>A</td>\n",
       "      <td>Major Loss</td>\n",
       "      <td>Police</td>\n",
       "      <td>0</td>\n",
       "      <td>1</td>\n",
       "      <td>TN</td>\n",
       "      <td>Nashville</td>\n",
       "      <td>18</td>\n",
       "      <td>AGENT00636</td>\n",
       "      <td>VNDR00472</td>\n",
       "    </tr>\n",
       "  </tbody>\n",
       "</table>\n",
       "<p>5 rows × 38 columns</p>\n",
       "</div>"
      ],
      "text/plain": [
       "         TXN_DATE_TIME TRANSACTION_ID CUSTOMER_ID POLICY_NUMBER POLICY_EFF_DT  \\\n",
       "0  2020-06-01 00:00:00    TXN00000001   A00003822   PLC00008468    2015-06-23   \n",
       "1  2020-06-01 00:00:00    TXN00000002   A00008149   PLC00009594    2018-04-21   \n",
       "2  2020-06-01 00:00:00    TXN00000003   A00003172   PLC00007969    2019-10-03   \n",
       "3  2020-06-01 00:00:00    TXN00000004   A00007572   PLC00009292    2016-11-29   \n",
       "4  2020-06-01 00:00:00    TXN00000005   A00008173   PLC00000204    2011-12-26   \n",
       "\n",
       "      LOSS_DT   REPORT_DT INSURANCE_TYPE  PREMIUM_AMOUNT  CLAIM_AMOUNT  ...  \\\n",
       "0  2020-05-16  2020-05-21         Health          157.13          9000  ...   \n",
       "1  2020-05-13  2020-05-18       Property          141.71         26000  ...   \n",
       "2  2020-05-21  2020-05-26       Property          157.24         13000  ...   \n",
       "3  2020-05-14  2020-05-19         Health          172.87         16000  ...   \n",
       "4  2020-05-17  2020-05-22         Travel           88.53          3000  ...   \n",
       "\n",
       "  CLAIM_STATUS INCIDENT_SEVERITY AUTHORITY_CONTACTED ANY_INJURY  \\\n",
       "0            A        Major Loss              Police          0   \n",
       "1            A        Total Loss           Ambulance          1   \n",
       "2            A        Total Loss              Police          0   \n",
       "3            A        Minor Loss           Ambulance          0   \n",
       "4            A        Major Loss              Police          0   \n",
       "\n",
       "  POLICE_REPORT_AVAILABLE  INCIDENT_STATE   INCIDENT_CITY  \\\n",
       "0                       1              GA        Savannah   \n",
       "1                       0              AL      Montgomery   \n",
       "2                       1              CO  Grand Junction   \n",
       "3                       0              GA        Savannah   \n",
       "4                       1              TN       Nashville   \n",
       "\n",
       "  INCIDENT_HOUR_OF_THE_DAY    AGENT_ID  VENDOR_ID  \n",
       "0                        4  AGENT00413  VNDR00556  \n",
       "1                        0  AGENT00769  VNDR00592  \n",
       "2                       19  AGENT00883  VNDR00031  \n",
       "3                       12  AGENT00278  VNDR00075  \n",
       "4                       18  AGENT00636  VNDR00472  \n",
       "\n",
       "[5 rows x 38 columns]"
      ]
     },
     "execution_count": 4,
     "metadata": {},
     "output_type": "execute_result"
    }
   ],
   "source": [
    "df1= pd.read_csv(r'insurance_data.csv')\n",
    "df1.head()"
   ]
  },
  {
   "cell_type": "code",
   "execution_count": 5,
   "id": "51161b5d",
   "metadata": {},
   "outputs": [
    {
     "data": {
      "text/plain": [
       "(10000, 38)"
      ]
     },
     "execution_count": 5,
     "metadata": {},
     "output_type": "execute_result"
    }
   ],
   "source": [
    "df1.shape"
   ]
  },
  {
   "cell_type": "code",
   "execution_count": 6,
   "id": "dad712aa",
   "metadata": {},
   "outputs": [
    {
     "data": {
      "text/html": [
       "<div>\n",
       "<style scoped>\n",
       "    .dataframe tbody tr th:only-of-type {\n",
       "        vertical-align: middle;\n",
       "    }\n",
       "\n",
       "    .dataframe tbody tr th {\n",
       "        vertical-align: top;\n",
       "    }\n",
       "\n",
       "    .dataframe thead th {\n",
       "        text-align: right;\n",
       "    }\n",
       "</style>\n",
       "<table border=\"1\" class=\"dataframe\">\n",
       "  <thead>\n",
       "    <tr style=\"text-align: right;\">\n",
       "      <th></th>\n",
       "      <th>VENDOR_ID</th>\n",
       "      <th>VENDOR_NAME</th>\n",
       "      <th>ADDRESS_LINE1</th>\n",
       "      <th>ADDRESS_LINE2</th>\n",
       "      <th>CITY</th>\n",
       "      <th>STATE</th>\n",
       "      <th>POSTAL_CODE</th>\n",
       "    </tr>\n",
       "  </thead>\n",
       "  <tbody>\n",
       "    <tr>\n",
       "      <th>0</th>\n",
       "      <td>VNDR00001</td>\n",
       "      <td>King, Proctor and Jones</td>\n",
       "      <td>2027 North Shannon Drive</td>\n",
       "      <td>#5</td>\n",
       "      <td>Fayetteville</td>\n",
       "      <td>AR</td>\n",
       "      <td>72703</td>\n",
       "    </tr>\n",
       "    <tr>\n",
       "      <th>1</th>\n",
       "      <td>VNDR00002</td>\n",
       "      <td>Garcia Ltd</td>\n",
       "      <td>5701 East Shirley Lane</td>\n",
       "      <td>NaN</td>\n",
       "      <td>Montgomery</td>\n",
       "      <td>AL</td>\n",
       "      <td>36117</td>\n",
       "    </tr>\n",
       "    <tr>\n",
       "      <th>2</th>\n",
       "      <td>VNDR00003</td>\n",
       "      <td>Cherry LLC</td>\n",
       "      <td>1217 Cottondale Road</td>\n",
       "      <td>NaN</td>\n",
       "      <td>Montgomery</td>\n",
       "      <td>AL</td>\n",
       "      <td>36109</td>\n",
       "    </tr>\n",
       "    <tr>\n",
       "      <th>3</th>\n",
       "      <td>VNDR00004</td>\n",
       "      <td>Mays-Benson</td>\n",
       "      <td>227 West Montgomery Cross Road</td>\n",
       "      <td>#736</td>\n",
       "      <td>Savannah</td>\n",
       "      <td>GA</td>\n",
       "      <td>31406</td>\n",
       "    </tr>\n",
       "    <tr>\n",
       "      <th>4</th>\n",
       "      <td>VNDR00005</td>\n",
       "      <td>Wilson PLC</td>\n",
       "      <td>23 North Hill Street</td>\n",
       "      <td>NaN</td>\n",
       "      <td>Nashville</td>\n",
       "      <td>TN</td>\n",
       "      <td>37210</td>\n",
       "    </tr>\n",
       "  </tbody>\n",
       "</table>\n",
       "</div>"
      ],
      "text/plain": [
       "   VENDOR_ID              VENDOR_NAME                   ADDRESS_LINE1  \\\n",
       "0  VNDR00001  King, Proctor and Jones        2027 North Shannon Drive   \n",
       "1  VNDR00002               Garcia Ltd          5701 East Shirley Lane   \n",
       "2  VNDR00003               Cherry LLC            1217 Cottondale Road   \n",
       "3  VNDR00004              Mays-Benson  227 West Montgomery Cross Road   \n",
       "4  VNDR00005               Wilson PLC            23 North Hill Street   \n",
       "\n",
       "  ADDRESS_LINE2          CITY STATE  POSTAL_CODE  \n",
       "0            #5  Fayetteville    AR        72703  \n",
       "1           NaN    Montgomery    AL        36117  \n",
       "2           NaN    Montgomery    AL        36109  \n",
       "3          #736      Savannah    GA        31406  \n",
       "4           NaN     Nashville    TN        37210  "
      ]
     },
     "execution_count": 6,
     "metadata": {},
     "output_type": "execute_result"
    }
   ],
   "source": [
    "df2= pd.read_csv(r'vendor_data.csv')\n",
    "df2.head()"
   ]
  },
  {
   "cell_type": "code",
   "execution_count": 7,
   "id": "4e6b7d09",
   "metadata": {},
   "outputs": [
    {
     "data": {
      "text/plain": [
       "(600, 7)"
      ]
     },
     "execution_count": 7,
     "metadata": {},
     "output_type": "execute_result"
    }
   ],
   "source": [
    "df2.shape"
   ]
  },
  {
   "cell_type": "code",
   "execution_count": 8,
   "id": "ac008e4d",
   "metadata": {},
   "outputs": [],
   "source": [
    "#task1"
   ]
  },
  {
   "cell_type": "markdown",
   "id": "37736b35",
   "metadata": {},
   "source": [
    "Merge the 3 dataset and create 1 view of data.\n",
    "You can merge insurance_data.csv and employee_data.csv on\n",
    "AGENT_ID You can merge insurance_data.csv and vendor_data.csv on\n",
    "VENDOR_ID Note: Use left Outer join as not all claims require Vendor"
   ]
  },
  {
   "cell_type": "code",
   "execution_count": 9,
   "id": "4f4f25a0",
   "metadata": {},
   "outputs": [],
   "source": [
    "df3= pd.merge(df, df1, on= 'AGENT_ID', how= 'left', suffixes= ('_CUSTOMER','_AGENT'))\n",
    "data= pd.merge(df3, df2, on='VENDOR_ID',how='left')"
   ]
  },
  {
   "cell_type": "code",
   "execution_count": 10,
   "id": "3ae341a1",
   "metadata": {},
   "outputs": [
    {
     "data": {
      "text/html": [
       "<div>\n",
       "<style scoped>\n",
       "    .dataframe tbody tr th:only-of-type {\n",
       "        vertical-align: middle;\n",
       "    }\n",
       "\n",
       "    .dataframe tbody tr th {\n",
       "        vertical-align: top;\n",
       "    }\n",
       "\n",
       "    .dataframe thead th {\n",
       "        text-align: right;\n",
       "    }\n",
       "</style>\n",
       "<table border=\"1\" class=\"dataframe\">\n",
       "  <thead>\n",
       "    <tr style=\"text-align: right;\">\n",
       "      <th></th>\n",
       "      <th>AGENT_ID</th>\n",
       "      <th>AGENT_NAME</th>\n",
       "      <th>DATE_OF_JOINING</th>\n",
       "      <th>ADDRESS_LINE1_CUSTOMER</th>\n",
       "      <th>ADDRESS_LINE2_CUSTOMER</th>\n",
       "      <th>CITY_CUSTOMER</th>\n",
       "      <th>STATE_CUSTOMER</th>\n",
       "      <th>POSTAL_CODE_CUSTOMER</th>\n",
       "      <th>EMP_ROUTING_NUMBER</th>\n",
       "      <th>EMP_ACCT_NUMBER</th>\n",
       "      <th>...</th>\n",
       "      <th>INCIDENT_STATE</th>\n",
       "      <th>INCIDENT_CITY</th>\n",
       "      <th>INCIDENT_HOUR_OF_THE_DAY</th>\n",
       "      <th>VENDOR_ID</th>\n",
       "      <th>VENDOR_NAME</th>\n",
       "      <th>ADDRESS_LINE1</th>\n",
       "      <th>ADDRESS_LINE2</th>\n",
       "      <th>CITY</th>\n",
       "      <th>STATE</th>\n",
       "      <th>POSTAL_CODE</th>\n",
       "    </tr>\n",
       "  </thead>\n",
       "  <tbody>\n",
       "    <tr>\n",
       "      <th>0</th>\n",
       "      <td>AGENT00001</td>\n",
       "      <td>Ray Johns</td>\n",
       "      <td>05-06-1993</td>\n",
       "      <td>1402 Maggies Way</td>\n",
       "      <td>NaN</td>\n",
       "      <td>Waterbury Center</td>\n",
       "      <td>VT</td>\n",
       "      <td>5677</td>\n",
       "      <td>34584958</td>\n",
       "      <td>HKUN51252328472585</td>\n",
       "      <td>...</td>\n",
       "      <td>FL</td>\n",
       "      <td>Lynn Haven</td>\n",
       "      <td>4</td>\n",
       "      <td>VNDR00394</td>\n",
       "      <td>Hart PLC</td>\n",
       "      <td>1108 Slater Street</td>\n",
       "      <td>NaN</td>\n",
       "      <td>Santa Rosa</td>\n",
       "      <td>CA</td>\n",
       "      <td>95404.0</td>\n",
       "    </tr>\n",
       "    <tr>\n",
       "      <th>1</th>\n",
       "      <td>AGENT00001</td>\n",
       "      <td>Ray Johns</td>\n",
       "      <td>05-06-1993</td>\n",
       "      <td>1402 Maggies Way</td>\n",
       "      <td>NaN</td>\n",
       "      <td>Waterbury Center</td>\n",
       "      <td>VT</td>\n",
       "      <td>5677</td>\n",
       "      <td>34584958</td>\n",
       "      <td>HKUN51252328472585</td>\n",
       "      <td>...</td>\n",
       "      <td>MD</td>\n",
       "      <td>Glen Burnie</td>\n",
       "      <td>5</td>\n",
       "      <td>VNDR00222</td>\n",
       "      <td>Webb-Henderson</td>\n",
       "      <td>2209 East Manor Drive</td>\n",
       "      <td>NaN</td>\n",
       "      <td>Fayetteville</td>\n",
       "      <td>AR</td>\n",
       "      <td>72701.0</td>\n",
       "    </tr>\n",
       "    <tr>\n",
       "      <th>2</th>\n",
       "      <td>AGENT00001</td>\n",
       "      <td>Ray Johns</td>\n",
       "      <td>05-06-1993</td>\n",
       "      <td>1402 Maggies Way</td>\n",
       "      <td>NaN</td>\n",
       "      <td>Waterbury Center</td>\n",
       "      <td>VT</td>\n",
       "      <td>5677</td>\n",
       "      <td>34584958</td>\n",
       "      <td>HKUN51252328472585</td>\n",
       "      <td>...</td>\n",
       "      <td>MD</td>\n",
       "      <td>Arnold</td>\n",
       "      <td>6</td>\n",
       "      <td>VNDR00440</td>\n",
       "      <td>Hawkins, Hansen and Gonzalez</td>\n",
       "      <td>188 Saint Matthews Avenue</td>\n",
       "      <td>#1</td>\n",
       "      <td>Louisville</td>\n",
       "      <td>KY</td>\n",
       "      <td>40207.0</td>\n",
       "    </tr>\n",
       "    <tr>\n",
       "      <th>3</th>\n",
       "      <td>AGENT00001</td>\n",
       "      <td>Ray Johns</td>\n",
       "      <td>05-06-1993</td>\n",
       "      <td>1402 Maggies Way</td>\n",
       "      <td>NaN</td>\n",
       "      <td>Waterbury Center</td>\n",
       "      <td>VT</td>\n",
       "      <td>5677</td>\n",
       "      <td>34584958</td>\n",
       "      <td>HKUN51252328472585</td>\n",
       "      <td>...</td>\n",
       "      <td>AR</td>\n",
       "      <td>Fayetteville</td>\n",
       "      <td>18</td>\n",
       "      <td>VNDR00267</td>\n",
       "      <td>Mercado Inc</td>\n",
       "      <td>6401 Green Meadow Lane</td>\n",
       "      <td>NaN</td>\n",
       "      <td>Oklahoma City</td>\n",
       "      <td>OK</td>\n",
       "      <td>73132.0</td>\n",
       "    </tr>\n",
       "    <tr>\n",
       "      <th>4</th>\n",
       "      <td>AGENT00001</td>\n",
       "      <td>Ray Johns</td>\n",
       "      <td>05-06-1993</td>\n",
       "      <td>1402 Maggies Way</td>\n",
       "      <td>NaN</td>\n",
       "      <td>Waterbury Center</td>\n",
       "      <td>VT</td>\n",
       "      <td>5677</td>\n",
       "      <td>34584958</td>\n",
       "      <td>HKUN51252328472585</td>\n",
       "      <td>...</td>\n",
       "      <td>OK</td>\n",
       "      <td>Oklahoma City</td>\n",
       "      <td>18</td>\n",
       "      <td>NaN</td>\n",
       "      <td>NaN</td>\n",
       "      <td>NaN</td>\n",
       "      <td>NaN</td>\n",
       "      <td>NaN</td>\n",
       "      <td>NaN</td>\n",
       "      <td>NaN</td>\n",
       "    </tr>\n",
       "    <tr>\n",
       "      <th>...</th>\n",
       "      <td>...</td>\n",
       "      <td>...</td>\n",
       "      <td>...</td>\n",
       "      <td>...</td>\n",
       "      <td>...</td>\n",
       "      <td>...</td>\n",
       "      <td>...</td>\n",
       "      <td>...</td>\n",
       "      <td>...</td>\n",
       "      <td>...</td>\n",
       "      <td>...</td>\n",
       "      <td>...</td>\n",
       "      <td>...</td>\n",
       "      <td>...</td>\n",
       "      <td>...</td>\n",
       "      <td>...</td>\n",
       "      <td>...</td>\n",
       "      <td>...</td>\n",
       "      <td>...</td>\n",
       "      <td>...</td>\n",
       "      <td>...</td>\n",
       "    </tr>\n",
       "    <tr>\n",
       "      <th>9995</th>\n",
       "      <td>AGENT01200</td>\n",
       "      <td>Virginia Stachura</td>\n",
       "      <td>25-05-1999</td>\n",
       "      <td>3579 2nd Avenue</td>\n",
       "      <td>NaN</td>\n",
       "      <td>Edgewater</td>\n",
       "      <td>MD</td>\n",
       "      <td>21037</td>\n",
       "      <td>12226940</td>\n",
       "      <td>ALYY24945545778511</td>\n",
       "      <td>...</td>\n",
       "      <td>AL</td>\n",
       "      <td>Montgomery</td>\n",
       "      <td>9</td>\n",
       "      <td>VNDR00240</td>\n",
       "      <td>Mcdonald, Beasley and Knox</td>\n",
       "      <td>132 Tensaw Road</td>\n",
       "      <td>NaN</td>\n",
       "      <td>Montgomery</td>\n",
       "      <td>AL</td>\n",
       "      <td>36117.0</td>\n",
       "    </tr>\n",
       "    <tr>\n",
       "      <th>9996</th>\n",
       "      <td>AGENT01200</td>\n",
       "      <td>Virginia Stachura</td>\n",
       "      <td>25-05-1999</td>\n",
       "      <td>3579 2nd Avenue</td>\n",
       "      <td>NaN</td>\n",
       "      <td>Edgewater</td>\n",
       "      <td>MD</td>\n",
       "      <td>21037</td>\n",
       "      <td>12226940</td>\n",
       "      <td>ALYY24945545778511</td>\n",
       "      <td>...</td>\n",
       "      <td>FL</td>\n",
       "      <td>Panama City</td>\n",
       "      <td>13</td>\n",
       "      <td>VNDR00412</td>\n",
       "      <td>Williams Ltd</td>\n",
       "      <td>5119 Marla Drive</td>\n",
       "      <td>NaN</td>\n",
       "      <td>Panama City</td>\n",
       "      <td>FL</td>\n",
       "      <td>32404.0</td>\n",
       "    </tr>\n",
       "    <tr>\n",
       "      <th>9997</th>\n",
       "      <td>AGENT01200</td>\n",
       "      <td>Virginia Stachura</td>\n",
       "      <td>25-05-1999</td>\n",
       "      <td>3579 2nd Avenue</td>\n",
       "      <td>NaN</td>\n",
       "      <td>Edgewater</td>\n",
       "      <td>MD</td>\n",
       "      <td>21037</td>\n",
       "      <td>12226940</td>\n",
       "      <td>ALYY24945545778511</td>\n",
       "      <td>...</td>\n",
       "      <td>TN</td>\n",
       "      <td>Nashville</td>\n",
       "      <td>19</td>\n",
       "      <td>NaN</td>\n",
       "      <td>NaN</td>\n",
       "      <td>NaN</td>\n",
       "      <td>NaN</td>\n",
       "      <td>NaN</td>\n",
       "      <td>NaN</td>\n",
       "      <td>NaN</td>\n",
       "    </tr>\n",
       "    <tr>\n",
       "      <th>9998</th>\n",
       "      <td>AGENT01200</td>\n",
       "      <td>Virginia Stachura</td>\n",
       "      <td>25-05-1999</td>\n",
       "      <td>3579 2nd Avenue</td>\n",
       "      <td>NaN</td>\n",
       "      <td>Edgewater</td>\n",
       "      <td>MD</td>\n",
       "      <td>21037</td>\n",
       "      <td>12226940</td>\n",
       "      <td>ALYY24945545778511</td>\n",
       "      <td>...</td>\n",
       "      <td>OK</td>\n",
       "      <td>Midwest City</td>\n",
       "      <td>18</td>\n",
       "      <td>NaN</td>\n",
       "      <td>NaN</td>\n",
       "      <td>NaN</td>\n",
       "      <td>NaN</td>\n",
       "      <td>NaN</td>\n",
       "      <td>NaN</td>\n",
       "      <td>NaN</td>\n",
       "    </tr>\n",
       "    <tr>\n",
       "      <th>9999</th>\n",
       "      <td>AGENT01200</td>\n",
       "      <td>Virginia Stachura</td>\n",
       "      <td>25-05-1999</td>\n",
       "      <td>3579 2nd Avenue</td>\n",
       "      <td>NaN</td>\n",
       "      <td>Edgewater</td>\n",
       "      <td>MD</td>\n",
       "      <td>21037</td>\n",
       "      <td>12226940</td>\n",
       "      <td>ALYY24945545778511</td>\n",
       "      <td>...</td>\n",
       "      <td>OK</td>\n",
       "      <td>Oklahoma City</td>\n",
       "      <td>19</td>\n",
       "      <td>VNDR00251</td>\n",
       "      <td>Sanchez LLC</td>\n",
       "      <td>154 Lyness Street</td>\n",
       "      <td>NaN</td>\n",
       "      <td>Manchester</td>\n",
       "      <td>CT</td>\n",
       "      <td>6040.0</td>\n",
       "    </tr>\n",
       "  </tbody>\n",
       "</table>\n",
       "<p>10000 rows × 53 columns</p>\n",
       "</div>"
      ],
      "text/plain": [
       "        AGENT_ID         AGENT_NAME DATE_OF_JOINING ADDRESS_LINE1_CUSTOMER  \\\n",
       "0     AGENT00001          Ray Johns      05-06-1993       1402 Maggies Way   \n",
       "1     AGENT00001          Ray Johns      05-06-1993       1402 Maggies Way   \n",
       "2     AGENT00001          Ray Johns      05-06-1993       1402 Maggies Way   \n",
       "3     AGENT00001          Ray Johns      05-06-1993       1402 Maggies Way   \n",
       "4     AGENT00001          Ray Johns      05-06-1993       1402 Maggies Way   \n",
       "...          ...                ...             ...                    ...   \n",
       "9995  AGENT01200  Virginia Stachura      25-05-1999        3579 2nd Avenue   \n",
       "9996  AGENT01200  Virginia Stachura      25-05-1999        3579 2nd Avenue   \n",
       "9997  AGENT01200  Virginia Stachura      25-05-1999        3579 2nd Avenue   \n",
       "9998  AGENT01200  Virginia Stachura      25-05-1999        3579 2nd Avenue   \n",
       "9999  AGENT01200  Virginia Stachura      25-05-1999        3579 2nd Avenue   \n",
       "\n",
       "     ADDRESS_LINE2_CUSTOMER     CITY_CUSTOMER STATE_CUSTOMER  \\\n",
       "0                       NaN  Waterbury Center             VT   \n",
       "1                       NaN  Waterbury Center             VT   \n",
       "2                       NaN  Waterbury Center             VT   \n",
       "3                       NaN  Waterbury Center             VT   \n",
       "4                       NaN  Waterbury Center             VT   \n",
       "...                     ...               ...            ...   \n",
       "9995                    NaN         Edgewater             MD   \n",
       "9996                    NaN         Edgewater             MD   \n",
       "9997                    NaN         Edgewater             MD   \n",
       "9998                    NaN         Edgewater             MD   \n",
       "9999                    NaN         Edgewater             MD   \n",
       "\n",
       "      POSTAL_CODE_CUSTOMER  EMP_ROUTING_NUMBER     EMP_ACCT_NUMBER  ...  \\\n",
       "0                     5677            34584958  HKUN51252328472585  ...   \n",
       "1                     5677            34584958  HKUN51252328472585  ...   \n",
       "2                     5677            34584958  HKUN51252328472585  ...   \n",
       "3                     5677            34584958  HKUN51252328472585  ...   \n",
       "4                     5677            34584958  HKUN51252328472585  ...   \n",
       "...                    ...                 ...                 ...  ...   \n",
       "9995                 21037            12226940  ALYY24945545778511  ...   \n",
       "9996                 21037            12226940  ALYY24945545778511  ...   \n",
       "9997                 21037            12226940  ALYY24945545778511  ...   \n",
       "9998                 21037            12226940  ALYY24945545778511  ...   \n",
       "9999                 21037            12226940  ALYY24945545778511  ...   \n",
       "\n",
       "     INCIDENT_STATE  INCIDENT_CITY INCIDENT_HOUR_OF_THE_DAY  VENDOR_ID  \\\n",
       "0                FL     Lynn Haven                        4  VNDR00394   \n",
       "1                MD    Glen Burnie                        5  VNDR00222   \n",
       "2                MD         Arnold                        6  VNDR00440   \n",
       "3                AR   Fayetteville                       18  VNDR00267   \n",
       "4                OK  Oklahoma City                       18        NaN   \n",
       "...             ...            ...                      ...        ...   \n",
       "9995             AL     Montgomery                        9  VNDR00240   \n",
       "9996             FL    Panama City                       13  VNDR00412   \n",
       "9997             TN      Nashville                       19        NaN   \n",
       "9998             OK   Midwest City                       18        NaN   \n",
       "9999             OK  Oklahoma City                       19  VNDR00251   \n",
       "\n",
       "                       VENDOR_NAME              ADDRESS_LINE1 ADDRESS_LINE2  \\\n",
       "0                         Hart PLC         1108 Slater Street           NaN   \n",
       "1                   Webb-Henderson      2209 East Manor Drive           NaN   \n",
       "2     Hawkins, Hansen and Gonzalez  188 Saint Matthews Avenue            #1   \n",
       "3                      Mercado Inc     6401 Green Meadow Lane           NaN   \n",
       "4                              NaN                        NaN           NaN   \n",
       "...                            ...                        ...           ...   \n",
       "9995    Mcdonald, Beasley and Knox            132 Tensaw Road           NaN   \n",
       "9996                  Williams Ltd           5119 Marla Drive           NaN   \n",
       "9997                           NaN                        NaN           NaN   \n",
       "9998                           NaN                        NaN           NaN   \n",
       "9999                   Sanchez LLC          154 Lyness Street           NaN   \n",
       "\n",
       "               CITY  STATE  POSTAL_CODE  \n",
       "0        Santa Rosa     CA      95404.0  \n",
       "1      Fayetteville     AR      72701.0  \n",
       "2        Louisville     KY      40207.0  \n",
       "3     Oklahoma City     OK      73132.0  \n",
       "4               NaN    NaN          NaN  \n",
       "...             ...    ...          ...  \n",
       "9995     Montgomery     AL      36117.0  \n",
       "9996    Panama City     FL      32404.0  \n",
       "9997            NaN    NaN          NaN  \n",
       "9998            NaN    NaN          NaN  \n",
       "9999     Manchester     CT       6040.0  \n",
       "\n",
       "[10000 rows x 53 columns]"
      ]
     },
     "execution_count": 10,
     "metadata": {},
     "output_type": "execute_result"
    }
   ],
   "source": [
    "data"
   ]
  },
  {
   "cell_type": "code",
   "execution_count": 11,
   "id": "e05db410",
   "metadata": {},
   "outputs": [],
   "source": [
    "#task2"
   ]
  },
  {
   "cell_type": "markdown",
   "id": "f8aea938",
   "metadata": {},
   "source": [
    "Business Leader wants to find Top 3 Insurance Type where we are getting\n",
    "most insurance claims?"
   ]
  },
  {
   "cell_type": "code",
   "execution_count": 12,
   "id": "09819c2c",
   "metadata": {},
   "outputs": [
    {
     "data": {
      "text/plain": [
       "Property    1692\n",
       "Mobile      1692\n",
       "Health      1690\n",
       "Name: INSURANCE_TYPE, dtype: int64"
      ]
     },
     "execution_count": 12,
     "metadata": {},
     "output_type": "execute_result"
    }
   ],
   "source": [
    "df1.INSURANCE_TYPE.value_counts()[:3]"
   ]
  },
  {
   "cell_type": "code",
   "execution_count": 13,
   "id": "7f49c92c",
   "metadata": {},
   "outputs": [],
   "source": [
    "#top 3 insurance claims are property with 1692 claims, mobile with 1692 claims and health with 1690 claims"
   ]
  },
  {
   "cell_type": "code",
   "execution_count": 14,
   "id": "c3347341",
   "metadata": {},
   "outputs": [],
   "source": [
    "#task3"
   ]
  },
  {
   "cell_type": "markdown",
   "id": "187ff012",
   "metadata": {},
   "source": [
    "Business Leader wants to find Top 5 States where we are getting most insurance claims\n",
    "for customer belonging to HIGH(H) risk segment?"
   ]
  },
  {
   "cell_type": "code",
   "execution_count": 15,
   "id": "d97b559f",
   "metadata": {},
   "outputs": [
    {
     "data": {
      "text/plain": [
       "Index(['TXN_DATE_TIME', 'TRANSACTION_ID', 'CUSTOMER_ID', 'POLICY_NUMBER',\n",
       "       'POLICY_EFF_DT', 'LOSS_DT', 'REPORT_DT', 'INSURANCE_TYPE',\n",
       "       'PREMIUM_AMOUNT', 'CLAIM_AMOUNT', 'CUSTOMER_NAME', 'ADDRESS_LINE1',\n",
       "       'ADDRESS_LINE2', 'CITY', 'STATE', 'POSTAL_CODE', 'SSN',\n",
       "       'MARITAL_STATUS', 'AGE', 'TENURE', 'EMPLOYMENT_STATUS',\n",
       "       'NO_OF_FAMILY_MEMBERS', 'RISK_SEGMENTATION', 'HOUSE_TYPE',\n",
       "       'SOCIAL_CLASS', 'ROUTING_NUMBER', 'ACCT_NUMBER',\n",
       "       'CUSTOMER_EDUCATION_LEVEL', 'CLAIM_STATUS', 'INCIDENT_SEVERITY',\n",
       "       'AUTHORITY_CONTACTED', 'ANY_INJURY', 'POLICE_REPORT_AVAILABLE',\n",
       "       'INCIDENT_STATE', 'INCIDENT_CITY', 'INCIDENT_HOUR_OF_THE_DAY',\n",
       "       'AGENT_ID', 'VENDOR_ID'],\n",
       "      dtype='object')"
      ]
     },
     "execution_count": 15,
     "metadata": {},
     "output_type": "execute_result"
    }
   ],
   "source": [
    "df1.columns"
   ]
  },
  {
   "cell_type": "code",
   "execution_count": 16,
   "id": "1f9e4a11",
   "metadata": {},
   "outputs": [
    {
     "data": {
      "text/plain": [
       "CA    148\n",
       "AZ    105\n",
       "FL    104\n",
       "TN    100\n",
       "AR     97\n",
       "Name: STATE, dtype: int64"
      ]
     },
     "execution_count": 16,
     "metadata": {},
     "output_type": "execute_result"
    }
   ],
   "source": [
    "df1[df1['RISK_SEGMENTATION']=='H'].STATE.value_counts()[:5]"
   ]
  },
  {
   "cell_type": "markdown",
   "id": "327257c3",
   "metadata": {},
   "source": [
    "These are the 5 states with highest risk segmentation claims"
   ]
  },
  {
   "cell_type": "markdown",
   "id": "e9c23534",
   "metadata": {},
   "source": [
    "CA"
   ]
  },
  {
   "cell_type": "markdown",
   "id": "ad5a01c2",
   "metadata": {},
   "source": [
    "AZ"
   ]
  },
  {
   "cell_type": "markdown",
   "id": "e0c40fee",
   "metadata": {},
   "source": [
    "FL"
   ]
  },
  {
   "cell_type": "markdown",
   "id": "e973b9b1",
   "metadata": {},
   "source": [
    "TN"
   ]
  },
  {
   "cell_type": "markdown",
   "id": "58270373",
   "metadata": {},
   "source": [
    "AR"
   ]
  },
  {
   "cell_type": "code",
   "execution_count": 17,
   "id": "11a8925e",
   "metadata": {},
   "outputs": [],
   "source": [
    "#Task4"
   ]
  },
  {
   "cell_type": "markdown",
   "id": "9b85017e",
   "metadata": {},
   "source": [
    "Business wants to create a new variable “COLOCATION” which will have following values IF\n",
    "Customer State == Incident State == Agent Address State THEN 1 ELSE 0\n",
    "Find the mean of this new column"
   ]
  },
  {
   "cell_type": "code",
   "execution_count": 18,
   "id": "5db7eefe",
   "metadata": {},
   "outputs": [
    {
     "data": {
      "text/plain": [
       "Index(['AGENT_ID', 'AGENT_NAME', 'DATE_OF_JOINING', 'ADDRESS_LINE1_CUSTOMER',\n",
       "       'ADDRESS_LINE2_CUSTOMER', 'CITY_CUSTOMER', 'STATE_CUSTOMER',\n",
       "       'POSTAL_CODE_CUSTOMER', 'EMP_ROUTING_NUMBER', 'EMP_ACCT_NUMBER',\n",
       "       'TXN_DATE_TIME', 'TRANSACTION_ID', 'CUSTOMER_ID', 'POLICY_NUMBER',\n",
       "       'POLICY_EFF_DT', 'LOSS_DT', 'REPORT_DT', 'INSURANCE_TYPE',\n",
       "       'PREMIUM_AMOUNT', 'CLAIM_AMOUNT', 'CUSTOMER_NAME',\n",
       "       'ADDRESS_LINE1_AGENT', 'ADDRESS_LINE2_AGENT', 'CITY_AGENT',\n",
       "       'STATE_AGENT', 'POSTAL_CODE_AGENT', 'SSN', 'MARITAL_STATUS', 'AGE',\n",
       "       'TENURE', 'EMPLOYMENT_STATUS', 'NO_OF_FAMILY_MEMBERS',\n",
       "       'RISK_SEGMENTATION', 'HOUSE_TYPE', 'SOCIAL_CLASS', 'ROUTING_NUMBER',\n",
       "       'ACCT_NUMBER', 'CUSTOMER_EDUCATION_LEVEL', 'CLAIM_STATUS',\n",
       "       'INCIDENT_SEVERITY', 'AUTHORITY_CONTACTED', 'ANY_INJURY',\n",
       "       'POLICE_REPORT_AVAILABLE', 'INCIDENT_STATE', 'INCIDENT_CITY',\n",
       "       'INCIDENT_HOUR_OF_THE_DAY', 'VENDOR_ID', 'VENDOR_NAME', 'ADDRESS_LINE1',\n",
       "       'ADDRESS_LINE2', 'CITY', 'STATE', 'POSTAL_CODE'],\n",
       "      dtype='object')"
      ]
     },
     "execution_count": 18,
     "metadata": {},
     "output_type": "execute_result"
    }
   ],
   "source": [
    "data.columns"
   ]
  },
  {
   "cell_type": "code",
   "execution_count": 19,
   "id": "2d2f3822",
   "metadata": {},
   "outputs": [],
   "source": [
    "data['COLOCATION'] = (data['STATE_CUSTOMER']==data['INCIDENT_STATE'])&(data['INCIDENT_STATE']==data['STATE_AGENT'])"
   ]
  },
  {
   "cell_type": "code",
   "execution_count": 20,
   "id": "ba114170",
   "metadata": {},
   "outputs": [],
   "source": [
    "#changing values from true to 1 and false to 0"
   ]
  },
  {
   "cell_type": "code",
   "execution_count": 21,
   "id": "20cf2613",
   "metadata": {},
   "outputs": [
    {
     "data": {
      "text/plain": [
       "0.0044"
      ]
     },
     "execution_count": 21,
     "metadata": {},
     "output_type": "execute_result"
    }
   ],
   "source": [
    "data['COLOCATION']= data.COLOCATION.astype('int')\n",
    "data.COLOCATION.mean()"
   ]
  },
  {
   "cell_type": "code",
   "execution_count": 22,
   "id": "8eb60aa8",
   "metadata": {},
   "outputs": [],
   "source": [
    "#the mean of colocation is 0.0044"
   ]
  },
  {
   "cell_type": "code",
   "execution_count": 23,
   "id": "17f1db07",
   "metadata": {},
   "outputs": [],
   "source": [
    "#task5"
   ]
  },
  {
   "cell_type": "markdown",
   "id": "93afd1a3",
   "metadata": {},
   "source": [
    "Data entry error was detected in the data and you are required to correct it. If for any\n",
    "claim transaction “AUTHORITY_CONTACTED” is NOT “Police” and POLICE_AVAILABLE == 1\n",
    "Then Update “AUTHORITY_CONTACTED” to Police."
   ]
  },
  {
   "cell_type": "code",
   "execution_count": 24,
   "id": "354b05bd",
   "metadata": {},
   "outputs": [],
   "source": [
    "not_police= data[data['AUTHORITY_CONTACTED']!='Police']"
   ]
  },
  {
   "cell_type": "code",
   "execution_count": 25,
   "id": "17bc006f",
   "metadata": {},
   "outputs": [],
   "source": [
    "row_update= not_police[not_police['POLICE_REPORT_AVAILABLE']==1].index"
   ]
  },
  {
   "cell_type": "code",
   "execution_count": 26,
   "id": "3e15a039",
   "metadata": {},
   "outputs": [],
   "source": [
    "data.loc[row_update,'AUTHORITY_CONTACTED']='Police'"
   ]
  },
  {
   "cell_type": "code",
   "execution_count": 27,
   "id": "30446838",
   "metadata": {},
   "outputs": [
    {
     "data": {
      "text/html": [
       "<div>\n",
       "<style scoped>\n",
       "    .dataframe tbody tr th:only-of-type {\n",
       "        vertical-align: middle;\n",
       "    }\n",
       "\n",
       "    .dataframe tbody tr th {\n",
       "        vertical-align: top;\n",
       "    }\n",
       "\n",
       "    .dataframe thead th {\n",
       "        text-align: right;\n",
       "    }\n",
       "</style>\n",
       "<table border=\"1\" class=\"dataframe\">\n",
       "  <thead>\n",
       "    <tr style=\"text-align: right;\">\n",
       "      <th></th>\n",
       "      <th>AGENT_ID</th>\n",
       "      <th>AGENT_NAME</th>\n",
       "      <th>DATE_OF_JOINING</th>\n",
       "      <th>ADDRESS_LINE1_CUSTOMER</th>\n",
       "      <th>ADDRESS_LINE2_CUSTOMER</th>\n",
       "      <th>CITY_CUSTOMER</th>\n",
       "      <th>STATE_CUSTOMER</th>\n",
       "      <th>POSTAL_CODE_CUSTOMER</th>\n",
       "      <th>EMP_ROUTING_NUMBER</th>\n",
       "      <th>EMP_ACCT_NUMBER</th>\n",
       "      <th>...</th>\n",
       "      <th>INCIDENT_CITY</th>\n",
       "      <th>INCIDENT_HOUR_OF_THE_DAY</th>\n",
       "      <th>VENDOR_ID</th>\n",
       "      <th>VENDOR_NAME</th>\n",
       "      <th>ADDRESS_LINE1</th>\n",
       "      <th>ADDRESS_LINE2</th>\n",
       "      <th>CITY</th>\n",
       "      <th>STATE</th>\n",
       "      <th>POSTAL_CODE</th>\n",
       "      <th>COLOCATION</th>\n",
       "    </tr>\n",
       "  </thead>\n",
       "  <tbody>\n",
       "  </tbody>\n",
       "</table>\n",
       "<p>0 rows × 54 columns</p>\n",
       "</div>"
      ],
      "text/plain": [
       "Empty DataFrame\n",
       "Columns: [AGENT_ID, AGENT_NAME, DATE_OF_JOINING, ADDRESS_LINE1_CUSTOMER, ADDRESS_LINE2_CUSTOMER, CITY_CUSTOMER, STATE_CUSTOMER, POSTAL_CODE_CUSTOMER, EMP_ROUTING_NUMBER, EMP_ACCT_NUMBER, TXN_DATE_TIME, TRANSACTION_ID, CUSTOMER_ID, POLICY_NUMBER, POLICY_EFF_DT, LOSS_DT, REPORT_DT, INSURANCE_TYPE, PREMIUM_AMOUNT, CLAIM_AMOUNT, CUSTOMER_NAME, ADDRESS_LINE1_AGENT, ADDRESS_LINE2_AGENT, CITY_AGENT, STATE_AGENT, POSTAL_CODE_AGENT, SSN, MARITAL_STATUS, AGE, TENURE, EMPLOYMENT_STATUS, NO_OF_FAMILY_MEMBERS, RISK_SEGMENTATION, HOUSE_TYPE, SOCIAL_CLASS, ROUTING_NUMBER, ACCT_NUMBER, CUSTOMER_EDUCATION_LEVEL, CLAIM_STATUS, INCIDENT_SEVERITY, AUTHORITY_CONTACTED, ANY_INJURY, POLICE_REPORT_AVAILABLE, INCIDENT_STATE, INCIDENT_CITY, INCIDENT_HOUR_OF_THE_DAY, VENDOR_ID, VENDOR_NAME, ADDRESS_LINE1, ADDRESS_LINE2, CITY, STATE, POSTAL_CODE, COLOCATION]\n",
       "Index: []\n",
       "\n",
       "[0 rows x 54 columns]"
      ]
     },
     "execution_count": 27,
     "metadata": {},
     "output_type": "execute_result"
    }
   ],
   "source": [
    "data[(data['POLICE_REPORT_AVAILABLE']==1)&(data['AUTHORITY_CONTACTED']!='Police')]"
   ]
  },
  {
   "cell_type": "code",
   "execution_count": 28,
   "id": "7f659919",
   "metadata": {},
   "outputs": [],
   "source": [
    "#task6"
   ]
  },
  {
   "cell_type": "markdown",
   "id": "5b9f68fa",
   "metadata": {},
   "source": [
    "Business wants to check the Claim Amount for deviation for each transaction, they would\n",
    "like you to calculate as follow\n",
    "CLAIM_DEVIATION = AVG_CLAIM_AMOUNT_FOR_LAST_30DAYS (same insurance type)\n",
    "/ CURRENT_CLAIM_AMOUNT\n",
    "If the value < 0.5 THEN CLAIM_DEVIATION = 1 ELSE 0\n",
    "If there is less than 30 days of transaction history THEN\n",
    "-1 Note: LAST_30DAYS does not include current day"
   ]
  },
  {
   "cell_type": "code",
   "execution_count": 29,
   "id": "16625f45",
   "metadata": {},
   "outputs": [
    {
     "data": {
      "text/plain": [
       "'2021-06-30 00:00:00'"
      ]
     },
     "execution_count": 29,
     "metadata": {},
     "output_type": "execute_result"
    }
   ],
   "source": [
    "data.TXN_DATE_TIME.max()"
   ]
  },
  {
   "cell_type": "code",
   "execution_count": 30,
   "id": "7b691e33",
   "metadata": {},
   "outputs": [],
   "source": [
    "#assuming current date to be 2021-06-30\n",
    "current_date= pd.to_datetime('2021-06-30')"
   ]
  },
  {
   "cell_type": "code",
   "execution_count": 31,
   "id": "d901e4ef",
   "metadata": {},
   "outputs": [],
   "source": [
    "data['TXN_DATE_TIME']= pd.to_datetime(data['TXN_DATE_TIME'])"
   ]
  },
  {
   "cell_type": "code",
   "execution_count": 32,
   "id": "9dfe8f56",
   "metadata": {},
   "outputs": [],
   "source": [
    "last30 = data.loc[(data['TXN_DATE_TIME'] > '2021-05-30') & (data['TXN_DATE_TIME'] < '2021-06-30')]  "
   ]
  },
  {
   "cell_type": "code",
   "execution_count": 33,
   "id": "3ba66be3",
   "metadata": {},
   "outputs": [],
   "source": [
    "# Getting average claim of last 30 days insurance type wise and storing it in dictionary\n",
    "average_claim = last30.groupby('INSURANCE_TYPE').mean()['CLAIM_AMOUNT'].to_dict()"
   ]
  },
  {
   "cell_type": "code",
   "execution_count": 34,
   "id": "092075bf",
   "metadata": {},
   "outputs": [],
   "source": [
    "# defining a function for calculating claim_deviation\n",
    "def Claim_deviation(row):\n",
    "    if (current_date - row['TXN_DATE_TIME'])<pd.Timedelta(days=30):\n",
    "        return -1\n",
    "    claim_deviation = average_claim[row['INSURANCE_TYPE']] / row['CLAIM_AMOUNT']\n",
    "    if claim_deviation < 0.5:\n",
    "        return 1\n",
    "    else:\n",
    "        return 0"
   ]
  },
  {
   "cell_type": "code",
   "execution_count": 35,
   "id": "c6384103",
   "metadata": {},
   "outputs": [],
   "source": [
    "# Applying the function to the dataframe\n",
    "data['CLAIM_DEVIATION'] = data.apply(Claim_deviation,axis=1)"
   ]
  },
  {
   "cell_type": "code",
   "execution_count": 36,
   "id": "2ca87a9a",
   "metadata": {},
   "outputs": [
    {
     "data": {
      "text/plain": [
       " 0    9216\n",
       "-1     784\n",
       "Name: CLAIM_DEVIATION, dtype: int64"
      ]
     },
     "execution_count": 36,
     "metadata": {},
     "output_type": "execute_result"
    }
   ],
   "source": [
    "data.CLAIM_DEVIATION.value_counts()"
   ]
  },
  {
   "cell_type": "markdown",
   "id": "1e81ef9c",
   "metadata": {},
   "source": [
    "There are 9216 claims with deviation less than 0.5"
   ]
  },
  {
   "cell_type": "markdown",
   "id": "43d438ce",
   "metadata": {},
   "source": [
    "784 claims with transaction history of less than 30 days"
   ]
  },
  {
   "cell_type": "code",
   "execution_count": 37,
   "id": "48ae2100",
   "metadata": {},
   "outputs": [],
   "source": [
    "#task7"
   ]
  },
  {
   "cell_type": "markdown",
   "id": "760c4cd4",
   "metadata": {},
   "source": [
    "Find All Agents who have worked on more than 2 types of Insurance Claims. Sort them by\n",
    "Total Claim Amount Approved under them in descending order"
   ]
  },
  {
   "cell_type": "code",
   "execution_count": 38,
   "id": "e2459c29",
   "metadata": {},
   "outputs": [],
   "source": [
    "#calculating insurance types worked on of each agent\n",
    "count_type = data.groupby('AGENT_ID')['INSURANCE_TYPE'].nunique()"
   ]
  },
  {
   "cell_type": "code",
   "execution_count": 39,
   "id": "6fe84226",
   "metadata": {},
   "outputs": [],
   "source": [
    "# Calculating weather agent has more than 2 insurance types\n",
    "agent_insurance_types = count_type>2"
   ]
  },
  {
   "cell_type": "code",
   "execution_count": 40,
   "id": "1e91f4ab",
   "metadata": {},
   "outputs": [],
   "source": [
    "#getting list of agents who have worked on more than 2 types of insurance types\n",
    "multi_type_agents = agent_insurance_types[agent_insurance_types].index"
   ]
  },
  {
   "cell_type": "code",
   "execution_count": 41,
   "id": "d8d2ac0c",
   "metadata": {},
   "outputs": [],
   "source": [
    "top_agents = data.groupby(['AGENT_ID','AGENT_NAME']).sum().loc[multi_type_agents][['CLAIM_AMOUNT']].sort_values('CLAIM_AMOUNT',ascending=False)\n"
   ]
  },
  {
   "cell_type": "code",
   "execution_count": 42,
   "id": "1fcbe598",
   "metadata": {},
   "outputs": [
    {
     "data": {
      "text/html": [
       "<div>\n",
       "<style scoped>\n",
       "    .dataframe tbody tr th:only-of-type {\n",
       "        vertical-align: middle;\n",
       "    }\n",
       "\n",
       "    .dataframe tbody tr th {\n",
       "        vertical-align: top;\n",
       "    }\n",
       "\n",
       "    .dataframe thead th {\n",
       "        text-align: right;\n",
       "    }\n",
       "</style>\n",
       "<table border=\"1\" class=\"dataframe\">\n",
       "  <thead>\n",
       "    <tr style=\"text-align: right;\">\n",
       "      <th></th>\n",
       "      <th></th>\n",
       "      <th>CLAIM_AMOUNT</th>\n",
       "    </tr>\n",
       "    <tr>\n",
       "      <th>AGENT_ID</th>\n",
       "      <th>AGENT_NAME</th>\n",
       "      <th></th>\n",
       "    </tr>\n",
       "  </thead>\n",
       "  <tbody>\n",
       "    <tr>\n",
       "      <th>AGENT00807</th>\n",
       "      <th>Don Filkins</th>\n",
       "      <td>528800</td>\n",
       "    </tr>\n",
       "    <tr>\n",
       "      <th>AGENT00679</th>\n",
       "      <th>Clara Barnett</th>\n",
       "      <td>489000</td>\n",
       "    </tr>\n",
       "    <tr>\n",
       "      <th>AGENT00771</th>\n",
       "      <th>Roger Burns</th>\n",
       "      <td>422100</td>\n",
       "    </tr>\n",
       "    <tr>\n",
       "      <th>AGENT00125</th>\n",
       "      <th>Salvador Soriano</th>\n",
       "      <td>400400</td>\n",
       "    </tr>\n",
       "    <tr>\n",
       "      <th>AGENT00789</th>\n",
       "      <th>Alison Baron</th>\n",
       "      <td>392900</td>\n",
       "    </tr>\n",
       "    <tr>\n",
       "      <th>...</th>\n",
       "      <th>...</th>\n",
       "      <td>...</td>\n",
       "    </tr>\n",
       "    <tr>\n",
       "      <th>AGENT00910</th>\n",
       "      <th>Vincent Ragan</th>\n",
       "      <td>15500</td>\n",
       "    </tr>\n",
       "    <tr>\n",
       "      <th>AGENT00689</th>\n",
       "      <th>Connie Hunt</th>\n",
       "      <td>13700</td>\n",
       "    </tr>\n",
       "    <tr>\n",
       "      <th>AGENT00732</th>\n",
       "      <th>Sylvia Tran</th>\n",
       "      <td>11300</td>\n",
       "    </tr>\n",
       "    <tr>\n",
       "      <th>AGENT00706</th>\n",
       "      <th>Laura Staggs</th>\n",
       "      <td>10800</td>\n",
       "    </tr>\n",
       "    <tr>\n",
       "      <th>AGENT00604</th>\n",
       "      <th>Thelma Salinas</th>\n",
       "      <td>5500</td>\n",
       "    </tr>\n",
       "  </tbody>\n",
       "</table>\n",
       "<p>1164 rows × 1 columns</p>\n",
       "</div>"
      ],
      "text/plain": [
       "                             CLAIM_AMOUNT\n",
       "AGENT_ID   AGENT_NAME                    \n",
       "AGENT00807 Don Filkins             528800\n",
       "AGENT00679 Clara Barnett           489000\n",
       "AGENT00771 Roger Burns             422100\n",
       "AGENT00125 Salvador Soriano        400400\n",
       "AGENT00789 Alison Baron            392900\n",
       "...                                   ...\n",
       "AGENT00910 Vincent Ragan            15500\n",
       "AGENT00689 Connie Hunt              13700\n",
       "AGENT00732 Sylvia Tran              11300\n",
       "AGENT00706 Laura Staggs             10800\n",
       "AGENT00604 Thelma Salinas            5500\n",
       "\n",
       "[1164 rows x 1 columns]"
      ]
     },
     "execution_count": 42,
     "metadata": {},
     "output_type": "execute_result"
    }
   ],
   "source": [
    "top_agents"
   ]
  },
  {
   "cell_type": "code",
   "execution_count": 43,
   "id": "f09ecdec",
   "metadata": {},
   "outputs": [],
   "source": [
    "#task8"
   ]
  },
  {
   "cell_type": "markdown",
   "id": "df973fd9",
   "metadata": {},
   "source": [
    "Mobile & Travel Insurance premium are discounted by 10%\n",
    "Health and Property Insurance premium are increased by 7%\n",
    "Life and Motor Insurance premium are marginally increased by 2%\n",
    "What will be overall change in % of the Premium Amount Collected for all these Customer?"
   ]
  },
  {
   "cell_type": "markdown",
   "id": "83fc378c",
   "metadata": {},
   "source": [
    "Mobile & Travel Insurance premium are discounted by 10%\n",
    "Health and Property Insurance premium are increased by 7%\n",
    "Life and Motor Insurance premium are marginally increased by 2%\n",
    "What will be overall change in % of the Premium Amount Collected for all these Customer?"
   ]
  },
  {
   "cell_type": "code",
   "execution_count": 44,
   "id": "770d79c0",
   "metadata": {},
   "outputs": [],
   "source": [
    "earlier_collected_premium= data['PREMIUM_AMOUNT'].sum()"
   ]
  },
  {
   "cell_type": "code",
   "execution_count": 45,
   "id": "a8340b7d",
   "metadata": {},
   "outputs": [
    {
     "data": {
      "text/plain": [
       "{'Health': 252455.73,\n",
       " 'Life': 125621.22,\n",
       " 'Mobile': 15191.42,\n",
       " 'Motor': 165391.98,\n",
       " 'Property': 202285.83,\n",
       " 'Travel': 124139.77}"
      ]
     },
     "execution_count": 45,
     "metadata": {},
     "output_type": "execute_result"
    }
   ],
   "source": [
    "#total collected premium by each type\n",
    "premium_type= data.groupby('INSURANCE_TYPE').sum()['PREMIUM_AMOUNT'].to_dict()\n",
    "premium_type"
   ]
  },
  {
   "cell_type": "code",
   "execution_count": 46,
   "id": "172a269f",
   "metadata": {},
   "outputs": [],
   "source": [
    "#mobile andtravel insurance discounted by 10%\n",
    "premium_type['Mobile']*=0.9\n",
    "premium_type['Travel']*=0.9"
   ]
  },
  {
   "cell_type": "code",
   "execution_count": 47,
   "id": "ee4f7019",
   "metadata": {},
   "outputs": [],
   "source": [
    "#health and propery premium is increased by 7%\n",
    "premium_type['Health']*=1.07\n",
    "premium_type['Property']*=1.07"
   ]
  },
  {
   "cell_type": "code",
   "execution_count": 48,
   "id": "c37527a9",
   "metadata": {},
   "outputs": [],
   "source": [
    "#life and motor insurance increased by 2%\n",
    "premium_type['Life']*=1.02\n",
    "premium_type['Motor']*=1.02"
   ]
  },
  {
   "cell_type": "code",
   "execution_count": 49,
   "id": "4f15cdfe",
   "metadata": {},
   "outputs": [],
   "source": [
    "#premium after discount and increase\n",
    "revised_premium= sum(premium_type.values())"
   ]
  },
  {
   "cell_type": "code",
   "execution_count": 50,
   "id": "85d1ffe2",
   "metadata": {},
   "outputs": [
    {
     "data": {
      "text/plain": [
       "2.6798588543858517"
      ]
     },
     "execution_count": 50,
     "metadata": {},
     "output_type": "execute_result"
    }
   ],
   "source": [
    "(revised_premium-earlier_collected_premium)*100/earlier_collected_premium"
   ]
  },
  {
   "cell_type": "code",
   "execution_count": 51,
   "id": "012fb0f1",
   "metadata": {},
   "outputs": [
    {
     "data": {
      "text/plain": [
       "(885085.95, 908805.0042000001)"
      ]
     },
     "execution_count": 51,
     "metadata": {},
     "output_type": "execute_result"
    }
   ],
   "source": [
    "earlier_collected_premium, revised_premium"
   ]
  },
  {
   "cell_type": "markdown",
   "id": "8cdde3d4",
   "metadata": {},
   "source": [
    "Change in overall premium amount is 2.67"
   ]
  },
  {
   "cell_type": "code",
   "execution_count": 52,
   "id": "e124b5e1",
   "metadata": {},
   "outputs": [],
   "source": [
    "#task9"
   ]
  },
  {
   "cell_type": "markdown",
   "id": "d07f84f2",
   "metadata": {},
   "source": [
    "Business wants to give discount to customer who are loyal and under stress due to Covid\n",
    "19. They have laid down an eligibility Criteria as follow\n",
    "IF CUSTOMER_TENURE > 60 AND EMPLOYMENT_STATUS = “N”\n",
    "AND NO_OF_FAMILY_MEMBERS >=4 THEN 1 ELSE 0\n",
    "Create a new column “ELIGIBLE_FOR_DISCOUNT” and find it\n",
    "mean."
   ]
  },
  {
   "cell_type": "code",
   "execution_count": 53,
   "id": "e6a6e2a2",
   "metadata": {},
   "outputs": [],
   "source": [
    "# calculating status for discount with given conditions\n",
    "discount_status=(data['TENURE']>60)&(data['EMPLOYMENT_STATUS']=='N')&(data['NO_OF_FAMILY_MEMBERS']>=4)"
   ]
  },
  {
   "cell_type": "code",
   "execution_count": 54,
   "id": "d36a8f25",
   "metadata": {},
   "outputs": [],
   "source": [
    "# Creating an column ELIGIBLE_FOR_DISCOUNT with above values\n",
    "data['ELIGIBLE_FOR_DISCOUNT'] = discount_status.astype('int')"
   ]
  },
  {
   "cell_type": "code",
   "execution_count": 55,
   "id": "cf0e2413",
   "metadata": {},
   "outputs": [
    {
     "data": {
      "text/plain": [
       "0.0299"
      ]
     },
     "execution_count": 55,
     "metadata": {},
     "output_type": "execute_result"
    }
   ],
   "source": [
    "data['ELIGIBLE_FOR_DISCOUNT'].mean()"
   ]
  },
  {
   "cell_type": "markdown",
   "id": "5d4b4b99",
   "metadata": {},
   "source": [
    "The mean is 0.0299, which means that only 2.99% customers are eligible for loan"
   ]
  },
  {
   "cell_type": "code",
   "execution_count": 56,
   "id": "42fe8272",
   "metadata": {},
   "outputs": [],
   "source": [
    "#task1o"
   ]
  },
  {
   "cell_type": "markdown",
   "id": "90250cc9",
   "metadata": {},
   "source": [
    "Business wants to check Claim Velocity which is defined as follow\n",
    "CLAIM_VELOCITY = NO_OF_CLAIMS_IN_LAST30DAYS (for the current insurance type)\n",
    "/ NO_OF_CLAIMS_IN_LAST3DAYS (for the current insurance type)\n",
    "Note: LAST30DAYS & LAST3DAYS does not include current\n",
    "day"
   ]
  },
  {
   "cell_type": "code",
   "execution_count": 57,
   "id": "ad09b132",
   "metadata": {},
   "outputs": [
    {
     "data": {
      "text/plain": [
       "Timestamp('2021-06-30 00:00:00')"
      ]
     },
     "execution_count": 57,
     "metadata": {},
     "output_type": "execute_result"
    }
   ],
   "source": [
    "current_date"
   ]
  },
  {
   "cell_type": "code",
   "execution_count": 58,
   "id": "326d5207",
   "metadata": {},
   "outputs": [
    {
     "data": {
      "text/plain": [
       "A    9497\n",
       "D     503\n",
       "Name: CLAIM_STATUS, dtype: int64"
      ]
     },
     "execution_count": 58,
     "metadata": {},
     "output_type": "execute_result"
    }
   ],
   "source": [
    "data['CLAIM_STATUS'].value_counts()"
   ]
  },
  {
   "cell_type": "code",
   "execution_count": 59,
   "id": "89598b33",
   "metadata": {},
   "outputs": [],
   "source": [
    "# we had defined last 30 days data in #task6, similarly defining for last 3 days\n",
    "last_3_days = data.loc[(data['TXN_DATE_TIME'] > current_date-pd.Timedelta(days=4)) & (data['TXN_DATE_TIME'] < current_date)]"
   ]
  },
  {
   "cell_type": "code",
   "execution_count": 60,
   "id": "8b3cbf3c",
   "metadata": {},
   "outputs": [],
   "source": [
    "# Calculating total approved claims insurance type wise in last 30 days\n",
    "claims_in_last_30_days = pd.DataFrame.from_dict(last30[last30['CLAIM_STATUS']=='A'].groupby('INSURANCE_TYPE').size().to_dict(),orient='index',columns=['NO_OF_CLAIMS_IN_LAST30DAYS'])\n"
   ]
  },
  {
   "cell_type": "code",
   "execution_count": 61,
   "id": "5b0e4c41",
   "metadata": {},
   "outputs": [],
   "source": [
    "# Calculating total approved claims insurance type wise in last 3 days\n",
    "claims_in_last_3_days = pd.DataFrame.from_dict(last_3_days[last_3_days['CLAIM_STATUS']=='A'].groupby('INSURANCE_TYPE').size().to_dict(),orient='index',columns=['NO_OF_CLAIMS_IN_LAST3DAYS'])\n"
   ]
  },
  {
   "cell_type": "code",
   "execution_count": 62,
   "id": "c31b38d1",
   "metadata": {},
   "outputs": [],
   "source": [
    "approved_claims = claims_in_last_30_days.join(claims_in_last_3_days)"
   ]
  },
  {
   "cell_type": "code",
   "execution_count": 63,
   "id": "d4ceb219",
   "metadata": {},
   "outputs": [
    {
     "data": {
      "text/html": [
       "<div>\n",
       "<style scoped>\n",
       "    .dataframe tbody tr th:only-of-type {\n",
       "        vertical-align: middle;\n",
       "    }\n",
       "\n",
       "    .dataframe tbody tr th {\n",
       "        vertical-align: top;\n",
       "    }\n",
       "\n",
       "    .dataframe thead th {\n",
       "        text-align: right;\n",
       "    }\n",
       "</style>\n",
       "<table border=\"1\" class=\"dataframe\">\n",
       "  <thead>\n",
       "    <tr style=\"text-align: right;\">\n",
       "      <th></th>\n",
       "      <th>NO_OF_CLAIMS_IN_LAST30DAYS</th>\n",
       "      <th>NO_OF_CLAIMS_IN_LAST3DAYS</th>\n",
       "      <th>CLAIM_VELOCITY</th>\n",
       "    </tr>\n",
       "  </thead>\n",
       "  <tbody>\n",
       "    <tr>\n",
       "      <th>Health</th>\n",
       "      <td>128</td>\n",
       "      <td>14</td>\n",
       "      <td>9.142857</td>\n",
       "    </tr>\n",
       "    <tr>\n",
       "      <th>Life</th>\n",
       "      <td>128</td>\n",
       "      <td>12</td>\n",
       "      <td>10.666667</td>\n",
       "    </tr>\n",
       "    <tr>\n",
       "      <th>Mobile</th>\n",
       "      <td>127</td>\n",
       "      <td>9</td>\n",
       "      <td>14.111111</td>\n",
       "    </tr>\n",
       "    <tr>\n",
       "      <th>Motor</th>\n",
       "      <td>117</td>\n",
       "      <td>12</td>\n",
       "      <td>9.750000</td>\n",
       "    </tr>\n",
       "    <tr>\n",
       "      <th>Property</th>\n",
       "      <td>125</td>\n",
       "      <td>12</td>\n",
       "      <td>10.416667</td>\n",
       "    </tr>\n",
       "    <tr>\n",
       "      <th>Travel</th>\n",
       "      <td>123</td>\n",
       "      <td>14</td>\n",
       "      <td>8.785714</td>\n",
       "    </tr>\n",
       "  </tbody>\n",
       "</table>\n",
       "</div>"
      ],
      "text/plain": [
       "          NO_OF_CLAIMS_IN_LAST30DAYS  NO_OF_CLAIMS_IN_LAST3DAYS  \\\n",
       "Health                           128                         14   \n",
       "Life                             128                         12   \n",
       "Mobile                           127                          9   \n",
       "Motor                            117                         12   \n",
       "Property                         125                         12   \n",
       "Travel                           123                         14   \n",
       "\n",
       "          CLAIM_VELOCITY  \n",
       "Health          9.142857  \n",
       "Life           10.666667  \n",
       "Mobile         14.111111  \n",
       "Motor           9.750000  \n",
       "Property       10.416667  \n",
       "Travel          8.785714  "
      ]
     },
     "execution_count": 63,
     "metadata": {},
     "output_type": "execute_result"
    }
   ],
   "source": [
    "approved_claims['CLAIM_VELOCITY'] = approved_claims['NO_OF_CLAIMS_IN_LAST30DAYS']/approved_claims['NO_OF_CLAIMS_IN_LAST3DAYS']\n",
    "approved_claims"
   ]
  },
  {
   "cell_type": "markdown",
   "id": "85b6bf08",
   "metadata": {},
   "source": [
    "claim velocity is calculated for only claims approved, similarly ot is calculated for all claims below."
   ]
  },
  {
   "cell_type": "code",
   "execution_count": 64,
   "id": "55f275ea",
   "metadata": {},
   "outputs": [],
   "source": [
    "All_claims30D = pd.DataFrame.from_dict(last30.groupby('INSURANCE_TYPE').size().to_dict(),orient='index',columns=['NO_OF_CLAIMS_IN_LAST30DAYS'])"
   ]
  },
  {
   "cell_type": "code",
   "execution_count": 65,
   "id": "5d15372c",
   "metadata": {},
   "outputs": [],
   "source": [
    "All_claims3D = pd.DataFrame.from_dict(last_3_days.groupby('INSURANCE_TYPE').size().to_dict(),orient='index',columns=['NO_OF_CLAIMS_IN_LAST3DAYS'])"
   ]
  },
  {
   "cell_type": "code",
   "execution_count": 66,
   "id": "210ed664",
   "metadata": {},
   "outputs": [],
   "source": [
    "total_claims=All_claims30D.join(All_claims3D)"
   ]
  },
  {
   "cell_type": "code",
   "execution_count": 67,
   "id": "122f87c2",
   "metadata": {},
   "outputs": [
    {
     "data": {
      "text/html": [
       "<div>\n",
       "<style scoped>\n",
       "    .dataframe tbody tr th:only-of-type {\n",
       "        vertical-align: middle;\n",
       "    }\n",
       "\n",
       "    .dataframe tbody tr th {\n",
       "        vertical-align: top;\n",
       "    }\n",
       "\n",
       "    .dataframe thead th {\n",
       "        text-align: right;\n",
       "    }\n",
       "</style>\n",
       "<table border=\"1\" class=\"dataframe\">\n",
       "  <thead>\n",
       "    <tr style=\"text-align: right;\">\n",
       "      <th></th>\n",
       "      <th>NO_OF_CLAIMS_IN_LAST30DAYS</th>\n",
       "      <th>NO_OF_CLAIMS_IN_LAST3DAYS</th>\n",
       "      <th>CLAIM_VELOCITY</th>\n",
       "    </tr>\n",
       "  </thead>\n",
       "  <tbody>\n",
       "    <tr>\n",
       "      <th>Health</th>\n",
       "      <td>136</td>\n",
       "      <td>14</td>\n",
       "      <td>9.714286</td>\n",
       "    </tr>\n",
       "    <tr>\n",
       "      <th>Life</th>\n",
       "      <td>140</td>\n",
       "      <td>14</td>\n",
       "      <td>10.000000</td>\n",
       "    </tr>\n",
       "    <tr>\n",
       "      <th>Mobile</th>\n",
       "      <td>134</td>\n",
       "      <td>10</td>\n",
       "      <td>13.400000</td>\n",
       "    </tr>\n",
       "    <tr>\n",
       "      <th>Motor</th>\n",
       "      <td>122</td>\n",
       "      <td>13</td>\n",
       "      <td>9.384615</td>\n",
       "    </tr>\n",
       "    <tr>\n",
       "      <th>Property</th>\n",
       "      <td>129</td>\n",
       "      <td>13</td>\n",
       "      <td>9.923077</td>\n",
       "    </tr>\n",
       "    <tr>\n",
       "      <th>Travel</th>\n",
       "      <td>125</td>\n",
       "      <td>14</td>\n",
       "      <td>8.928571</td>\n",
       "    </tr>\n",
       "  </tbody>\n",
       "</table>\n",
       "</div>"
      ],
      "text/plain": [
       "          NO_OF_CLAIMS_IN_LAST30DAYS  NO_OF_CLAIMS_IN_LAST3DAYS  \\\n",
       "Health                           136                         14   \n",
       "Life                             140                         14   \n",
       "Mobile                           134                         10   \n",
       "Motor                            122                         13   \n",
       "Property                         129                         13   \n",
       "Travel                           125                         14   \n",
       "\n",
       "          CLAIM_VELOCITY  \n",
       "Health          9.714286  \n",
       "Life           10.000000  \n",
       "Mobile         13.400000  \n",
       "Motor           9.384615  \n",
       "Property        9.923077  \n",
       "Travel          8.928571  "
      ]
     },
     "execution_count": 67,
     "metadata": {},
     "output_type": "execute_result"
    }
   ],
   "source": [
    "total_claims['CLAIM_VELOCITY'] = total_claims['NO_OF_CLAIMS_IN_LAST30DAYS']/total_claims['NO_OF_CLAIMS_IN_LAST3DAYS']\n",
    "total_claims"
   ]
  },
  {
   "cell_type": "code",
   "execution_count": 68,
   "id": "a9e308f9",
   "metadata": {},
   "outputs": [],
   "source": [
    "#task11"
   ]
  },
  {
   "cell_type": "markdown",
   "id": "aa8cfce5",
   "metadata": {},
   "source": [
    "Find all low performing agents i.e. employees who are in the bottom 5 percentile based\n",
    "on Claims worked by them."
   ]
  },
  {
   "cell_type": "code",
   "execution_count": 69,
   "id": "98575541",
   "metadata": {},
   "outputs": [],
   "source": [
    "bottom_5percentile = data.groupby('AGENT_ID').sum().quantile(0.05)['CLAIM_AMOUNT']"
   ]
  },
  {
   "cell_type": "code",
   "execution_count": 70,
   "id": "7166a4d0",
   "metadata": {},
   "outputs": [],
   "source": [
    "Agent_grouped_data = data.groupby('AGENT_ID').sum()"
   ]
  },
  {
   "cell_type": "code",
   "execution_count": 71,
   "id": "f1580077",
   "metadata": {},
   "outputs": [
    {
     "data": {
      "text/html": [
       "<div>\n",
       "<style scoped>\n",
       "    .dataframe tbody tr th:only-of-type {\n",
       "        vertical-align: middle;\n",
       "    }\n",
       "\n",
       "    .dataframe tbody tr th {\n",
       "        vertical-align: top;\n",
       "    }\n",
       "\n",
       "    .dataframe thead th {\n",
       "        text-align: right;\n",
       "    }\n",
       "</style>\n",
       "<table border=\"1\" class=\"dataframe\">\n",
       "  <thead>\n",
       "    <tr style=\"text-align: right;\">\n",
       "      <th></th>\n",
       "      <th>CLAIM_AMOUNT</th>\n",
       "    </tr>\n",
       "    <tr>\n",
       "      <th>AGENT_ID</th>\n",
       "      <th></th>\n",
       "    </tr>\n",
       "  </thead>\n",
       "  <tbody>\n",
       "    <tr>\n",
       "      <th>AGENT00006</th>\n",
       "      <td>22400</td>\n",
       "    </tr>\n",
       "    <tr>\n",
       "      <th>AGENT00014</th>\n",
       "      <td>7400</td>\n",
       "    </tr>\n",
       "    <tr>\n",
       "      <th>AGENT00016</th>\n",
       "      <td>27000</td>\n",
       "    </tr>\n",
       "    <tr>\n",
       "      <th>AGENT00085</th>\n",
       "      <td>25700</td>\n",
       "    </tr>\n",
       "    <tr>\n",
       "      <th>AGENT00088</th>\n",
       "      <td>27700</td>\n",
       "    </tr>\n",
       "    <tr>\n",
       "      <th>AGENT00091</th>\n",
       "      <td>30000</td>\n",
       "    </tr>\n",
       "    <tr>\n",
       "      <th>AGENT00098</th>\n",
       "      <td>28200</td>\n",
       "    </tr>\n",
       "    <tr>\n",
       "      <th>AGENT00134</th>\n",
       "      <td>22000</td>\n",
       "    </tr>\n",
       "    <tr>\n",
       "      <th>AGENT00149</th>\n",
       "      <td>28900</td>\n",
       "    </tr>\n",
       "    <tr>\n",
       "      <th>AGENT00156</th>\n",
       "      <td>13200</td>\n",
       "    </tr>\n",
       "    <tr>\n",
       "      <th>AGENT00172</th>\n",
       "      <td>22200</td>\n",
       "    </tr>\n",
       "    <tr>\n",
       "      <th>AGENT00185</th>\n",
       "      <td>16100</td>\n",
       "    </tr>\n",
       "    <tr>\n",
       "      <th>AGENT00186</th>\n",
       "      <td>27700</td>\n",
       "    </tr>\n",
       "    <tr>\n",
       "      <th>AGENT00188</th>\n",
       "      <td>28400</td>\n",
       "    </tr>\n",
       "    <tr>\n",
       "      <th>AGENT00197</th>\n",
       "      <td>18500</td>\n",
       "    </tr>\n",
       "    <tr>\n",
       "      <th>AGENT00252</th>\n",
       "      <td>20000</td>\n",
       "    </tr>\n",
       "    <tr>\n",
       "      <th>AGENT00263</th>\n",
       "      <td>11500</td>\n",
       "    </tr>\n",
       "    <tr>\n",
       "      <th>AGENT00275</th>\n",
       "      <td>16200</td>\n",
       "    </tr>\n",
       "    <tr>\n",
       "      <th>AGENT00279</th>\n",
       "      <td>28000</td>\n",
       "    </tr>\n",
       "    <tr>\n",
       "      <th>AGENT00300</th>\n",
       "      <td>12600</td>\n",
       "    </tr>\n",
       "    <tr>\n",
       "      <th>AGENT00310</th>\n",
       "      <td>28800</td>\n",
       "    </tr>\n",
       "    <tr>\n",
       "      <th>AGENT00316</th>\n",
       "      <td>22200</td>\n",
       "    </tr>\n",
       "    <tr>\n",
       "      <th>AGENT00351</th>\n",
       "      <td>21700</td>\n",
       "    </tr>\n",
       "    <tr>\n",
       "      <th>AGENT00425</th>\n",
       "      <td>17800</td>\n",
       "    </tr>\n",
       "    <tr>\n",
       "      <th>AGENT00442</th>\n",
       "      <td>30300</td>\n",
       "    </tr>\n",
       "    <tr>\n",
       "      <th>AGENT00536</th>\n",
       "      <td>20000</td>\n",
       "    </tr>\n",
       "    <tr>\n",
       "      <th>AGENT00562</th>\n",
       "      <td>21100</td>\n",
       "    </tr>\n",
       "    <tr>\n",
       "      <th>AGENT00571</th>\n",
       "      <td>24200</td>\n",
       "    </tr>\n",
       "    <tr>\n",
       "      <th>AGENT00585</th>\n",
       "      <td>16600</td>\n",
       "    </tr>\n",
       "    <tr>\n",
       "      <th>AGENT00590</th>\n",
       "      <td>22200</td>\n",
       "    </tr>\n",
       "    <tr>\n",
       "      <th>AGENT00604</th>\n",
       "      <td>5500</td>\n",
       "    </tr>\n",
       "    <tr>\n",
       "      <th>AGENT00621</th>\n",
       "      <td>5300</td>\n",
       "    </tr>\n",
       "    <tr>\n",
       "      <th>AGENT00628</th>\n",
       "      <td>6100</td>\n",
       "    </tr>\n",
       "    <tr>\n",
       "      <th>AGENT00672</th>\n",
       "      <td>21300</td>\n",
       "    </tr>\n",
       "    <tr>\n",
       "      <th>AGENT00689</th>\n",
       "      <td>13700</td>\n",
       "    </tr>\n",
       "    <tr>\n",
       "      <th>AGENT00706</th>\n",
       "      <td>10800</td>\n",
       "    </tr>\n",
       "    <tr>\n",
       "      <th>AGENT00721</th>\n",
       "      <td>9000</td>\n",
       "    </tr>\n",
       "    <tr>\n",
       "      <th>AGENT00732</th>\n",
       "      <td>11300</td>\n",
       "    </tr>\n",
       "    <tr>\n",
       "      <th>AGENT00773</th>\n",
       "      <td>15000</td>\n",
       "    </tr>\n",
       "    <tr>\n",
       "      <th>AGENT00780</th>\n",
       "      <td>11300</td>\n",
       "    </tr>\n",
       "    <tr>\n",
       "      <th>AGENT00790</th>\n",
       "      <td>6000</td>\n",
       "    </tr>\n",
       "    <tr>\n",
       "      <th>AGENT00804</th>\n",
       "      <td>20000</td>\n",
       "    </tr>\n",
       "    <tr>\n",
       "      <th>AGENT00805</th>\n",
       "      <td>22600</td>\n",
       "    </tr>\n",
       "    <tr>\n",
       "      <th>AGENT00830</th>\n",
       "      <td>23500</td>\n",
       "    </tr>\n",
       "    <tr>\n",
       "      <th>AGENT00841</th>\n",
       "      <td>17800</td>\n",
       "    </tr>\n",
       "    <tr>\n",
       "      <th>AGENT00856</th>\n",
       "      <td>24200</td>\n",
       "    </tr>\n",
       "    <tr>\n",
       "      <th>AGENT00894</th>\n",
       "      <td>27600</td>\n",
       "    </tr>\n",
       "    <tr>\n",
       "      <th>AGENT00910</th>\n",
       "      <td>15500</td>\n",
       "    </tr>\n",
       "    <tr>\n",
       "      <th>AGENT00969</th>\n",
       "      <td>28300</td>\n",
       "    </tr>\n",
       "    <tr>\n",
       "      <th>AGENT00985</th>\n",
       "      <td>30000</td>\n",
       "    </tr>\n",
       "    <tr>\n",
       "      <th>AGENT01021</th>\n",
       "      <td>24300</td>\n",
       "    </tr>\n",
       "    <tr>\n",
       "      <th>AGENT01037</th>\n",
       "      <td>5600</td>\n",
       "    </tr>\n",
       "    <tr>\n",
       "      <th>AGENT01052</th>\n",
       "      <td>28000</td>\n",
       "    </tr>\n",
       "    <tr>\n",
       "      <th>AGENT01077</th>\n",
       "      <td>4200</td>\n",
       "    </tr>\n",
       "    <tr>\n",
       "      <th>AGENT01107</th>\n",
       "      <td>24700</td>\n",
       "    </tr>\n",
       "    <tr>\n",
       "      <th>AGENT01128</th>\n",
       "      <td>28000</td>\n",
       "    </tr>\n",
       "    <tr>\n",
       "      <th>AGENT01131</th>\n",
       "      <td>27500</td>\n",
       "    </tr>\n",
       "    <tr>\n",
       "      <th>AGENT01151</th>\n",
       "      <td>28000</td>\n",
       "    </tr>\n",
       "    <tr>\n",
       "      <th>AGENT01154</th>\n",
       "      <td>800</td>\n",
       "    </tr>\n",
       "    <tr>\n",
       "      <th>AGENT01179</th>\n",
       "      <td>27300</td>\n",
       "    </tr>\n",
       "  </tbody>\n",
       "</table>\n",
       "</div>"
      ],
      "text/plain": [
       "            CLAIM_AMOUNT\n",
       "AGENT_ID                \n",
       "AGENT00006         22400\n",
       "AGENT00014          7400\n",
       "AGENT00016         27000\n",
       "AGENT00085         25700\n",
       "AGENT00088         27700\n",
       "AGENT00091         30000\n",
       "AGENT00098         28200\n",
       "AGENT00134         22000\n",
       "AGENT00149         28900\n",
       "AGENT00156         13200\n",
       "AGENT00172         22200\n",
       "AGENT00185         16100\n",
       "AGENT00186         27700\n",
       "AGENT00188         28400\n",
       "AGENT00197         18500\n",
       "AGENT00252         20000\n",
       "AGENT00263         11500\n",
       "AGENT00275         16200\n",
       "AGENT00279         28000\n",
       "AGENT00300         12600\n",
       "AGENT00310         28800\n",
       "AGENT00316         22200\n",
       "AGENT00351         21700\n",
       "AGENT00425         17800\n",
       "AGENT00442         30300\n",
       "AGENT00536         20000\n",
       "AGENT00562         21100\n",
       "AGENT00571         24200\n",
       "AGENT00585         16600\n",
       "AGENT00590         22200\n",
       "AGENT00604          5500\n",
       "AGENT00621          5300\n",
       "AGENT00628          6100\n",
       "AGENT00672         21300\n",
       "AGENT00689         13700\n",
       "AGENT00706         10800\n",
       "AGENT00721          9000\n",
       "AGENT00732         11300\n",
       "AGENT00773         15000\n",
       "AGENT00780         11300\n",
       "AGENT00790          6000\n",
       "AGENT00804         20000\n",
       "AGENT00805         22600\n",
       "AGENT00830         23500\n",
       "AGENT00841         17800\n",
       "AGENT00856         24200\n",
       "AGENT00894         27600\n",
       "AGENT00910         15500\n",
       "AGENT00969         28300\n",
       "AGENT00985         30000\n",
       "AGENT01021         24300\n",
       "AGENT01037          5600\n",
       "AGENT01052         28000\n",
       "AGENT01077          4200\n",
       "AGENT01107         24700\n",
       "AGENT01128         28000\n",
       "AGENT01131         27500\n",
       "AGENT01151         28000\n",
       "AGENT01154           800\n",
       "AGENT01179         27300"
      ]
     },
     "execution_count": 71,
     "metadata": {},
     "output_type": "execute_result"
    }
   ],
   "source": [
    "# Low performing agent data\n",
    "low_performing_agents = Agent_grouped_data[Agent_grouped_data['CLAIM_AMOUNT']<=bottom_5percentile][['CLAIM_AMOUNT']]\n",
    "low_performing_agents"
   ]
  },
  {
   "cell_type": "code",
   "execution_count": 72,
   "id": "1be5ccf6",
   "metadata": {},
   "outputs": [],
   "source": [
    "#task12"
   ]
  },
  {
   "cell_type": "markdown",
   "id": "553fd054",
   "metadata": {},
   "source": [
    "Business wants to find all Suspicious Employees (Agents).\n",
    "IF TOTAL CLAIM AMOUNT which meet below criteria is >= 15000 THEN AGENT is classified\n",
    "as Suspicious ELSE Not\n",
    "CLAIM_STATUS = Approved AND CUSTOMER_RISK_SEGMENTATION = High\n",
    "AND INCIDENT_SEVERITY = “Major Loss”\n",
    "If Suspicious, then 1 ELSE 0. Find mean of this column."
   ]
  },
  {
   "cell_type": "code",
   "execution_count": 73,
   "id": "162573a7",
   "metadata": {},
   "outputs": [],
   "source": [
    "criteria = (data['CLAIM_STATUS']=='A')&(data['RISK_SEGMENTATION']=='H')&(data['INCIDENT_SEVERITY']=='Major Loss')"
   ]
  },
  {
   "cell_type": "code",
   "execution_count": 74,
   "id": "cb1b6b41",
   "metadata": {},
   "outputs": [],
   "source": [
    "# transactions that follow criteria\n",
    "criteria_met = data[criteria]"
   ]
  },
  {
   "cell_type": "code",
   "execution_count": 75,
   "id": "a6658ba8",
   "metadata": {},
   "outputs": [],
   "source": [
    "grouped_suspicion_data = criteria_met.groupby('AGENT_ID').sum()"
   ]
  },
  {
   "cell_type": "code",
   "execution_count": 76,
   "id": "47b58ea8",
   "metadata": {},
   "outputs": [],
   "source": [
    "# storing agents_id that are suspicious(met all the criteria)\n",
    "suspicious_agents = list(grouped_suspicion_data[grouped_suspicion_data['CLAIM_AMOUNT']>=15000].index)"
   ]
  },
  {
   "cell_type": "code",
   "execution_count": 77,
   "id": "f0d63001",
   "metadata": {},
   "outputs": [
    {
     "data": {
      "text/html": [
       "<div>\n",
       "<style scoped>\n",
       "    .dataframe tbody tr th:only-of-type {\n",
       "        vertical-align: middle;\n",
       "    }\n",
       "\n",
       "    .dataframe tbody tr th {\n",
       "        vertical-align: top;\n",
       "    }\n",
       "\n",
       "    .dataframe thead th {\n",
       "        text-align: right;\n",
       "    }\n",
       "</style>\n",
       "<table border=\"1\" class=\"dataframe\">\n",
       "  <thead>\n",
       "    <tr style=\"text-align: right;\">\n",
       "      <th></th>\n",
       "      <th>AGENT_ID</th>\n",
       "      <th>AGENT_NAME</th>\n",
       "      <th>DATE_OF_JOINING</th>\n",
       "      <th>ADDRESS_LINE1</th>\n",
       "      <th>ADDRESS_LINE2</th>\n",
       "      <th>CITY</th>\n",
       "      <th>STATE</th>\n",
       "      <th>POSTAL_CODE</th>\n",
       "      <th>EMP_ROUTING_NUMBER</th>\n",
       "      <th>EMP_ACCT_NUMBER</th>\n",
       "    </tr>\n",
       "  </thead>\n",
       "  <tbody>\n",
       "    <tr>\n",
       "      <th>0</th>\n",
       "      <td>AGENT00001</td>\n",
       "      <td>Ray Johns</td>\n",
       "      <td>05-06-1993</td>\n",
       "      <td>1402 Maggies Way</td>\n",
       "      <td>NaN</td>\n",
       "      <td>Waterbury Center</td>\n",
       "      <td>VT</td>\n",
       "      <td>5677</td>\n",
       "      <td>34584958</td>\n",
       "      <td>HKUN51252328472585</td>\n",
       "    </tr>\n",
       "    <tr>\n",
       "      <th>1</th>\n",
       "      <td>AGENT00002</td>\n",
       "      <td>Angelo Borjon</td>\n",
       "      <td>27-12-2005</td>\n",
       "      <td>414 Tanya Pass</td>\n",
       "      <td>NaN</td>\n",
       "      <td>Panama City</td>\n",
       "      <td>FL</td>\n",
       "      <td>32404</td>\n",
       "      <td>107363763</td>\n",
       "      <td>OPIS19290040088204</td>\n",
       "    </tr>\n",
       "    <tr>\n",
       "      <th>2</th>\n",
       "      <td>AGENT00003</td>\n",
       "      <td>Candy Spellman</td>\n",
       "      <td>02-09-2003</td>\n",
       "      <td>606 National Street</td>\n",
       "      <td>#306</td>\n",
       "      <td>Fayetteville</td>\n",
       "      <td>AR</td>\n",
       "      <td>72701</td>\n",
       "      <td>81744097</td>\n",
       "      <td>YSCJ67489688482590</td>\n",
       "    </tr>\n",
       "    <tr>\n",
       "      <th>3</th>\n",
       "      <td>AGENT00004</td>\n",
       "      <td>Mary Smith</td>\n",
       "      <td>23-09-2004</td>\n",
       "      <td>235 Hugh Thomas Drive</td>\n",
       "      <td>NaN</td>\n",
       "      <td>Panama City</td>\n",
       "      <td>FL</td>\n",
       "      <td>32404</td>\n",
       "      <td>67563771</td>\n",
       "      <td>ZANG21285355574581</td>\n",
       "    </tr>\n",
       "    <tr>\n",
       "      <th>4</th>\n",
       "      <td>AGENT00005</td>\n",
       "      <td>Mildred Diaz</td>\n",
       "      <td>21-06-2011</td>\n",
       "      <td>3426 Broadview Street</td>\n",
       "      <td>NaN</td>\n",
       "      <td>Montgomery</td>\n",
       "      <td>AL</td>\n",
       "      <td>36110</td>\n",
       "      <td>114951317</td>\n",
       "      <td>DZFS82244494451134</td>\n",
       "    </tr>\n",
       "    <tr>\n",
       "      <th>...</th>\n",
       "      <td>...</td>\n",
       "      <td>...</td>\n",
       "      <td>...</td>\n",
       "      <td>...</td>\n",
       "      <td>...</td>\n",
       "      <td>...</td>\n",
       "      <td>...</td>\n",
       "      <td>...</td>\n",
       "      <td>...</td>\n",
       "      <td>...</td>\n",
       "    </tr>\n",
       "    <tr>\n",
       "      <th>1195</th>\n",
       "      <td>AGENT01196</td>\n",
       "      <td>Myrtle Mccatty</td>\n",
       "      <td>14-09-2005</td>\n",
       "      <td>3553 Brandywine Street Northwest</td>\n",
       "      <td>NaN</td>\n",
       "      <td>Washington</td>\n",
       "      <td>DC</td>\n",
       "      <td>20008</td>\n",
       "      <td>32137938</td>\n",
       "      <td>EWBR19907574832501</td>\n",
       "    </tr>\n",
       "    <tr>\n",
       "      <th>1196</th>\n",
       "      <td>AGENT01197</td>\n",
       "      <td>John Dorsey</td>\n",
       "      <td>04-12-1993</td>\n",
       "      <td>2315 Chestnut Street</td>\n",
       "      <td>NaN</td>\n",
       "      <td>Montgomery</td>\n",
       "      <td>AL</td>\n",
       "      <td>36107</td>\n",
       "      <td>70796687</td>\n",
       "      <td>KGEJ74846009867837</td>\n",
       "    </tr>\n",
       "    <tr>\n",
       "      <th>1197</th>\n",
       "      <td>AGENT01198</td>\n",
       "      <td>Ruth Bigbee</td>\n",
       "      <td>05-09-1993</td>\n",
       "      <td>1983 Reidsville Street</td>\n",
       "      <td>NaN</td>\n",
       "      <td>Annapolis</td>\n",
       "      <td>MD</td>\n",
       "      <td>21401</td>\n",
       "      <td>124993912</td>\n",
       "      <td>RASV88064214164820</td>\n",
       "    </tr>\n",
       "    <tr>\n",
       "      <th>1198</th>\n",
       "      <td>AGENT01199</td>\n",
       "      <td>Tommie Camacho</td>\n",
       "      <td>25-10-2004</td>\n",
       "      <td>5821 Taft Street</td>\n",
       "      <td>NaN</td>\n",
       "      <td>Arvada</td>\n",
       "      <td>CO</td>\n",
       "      <td>80004</td>\n",
       "      <td>19424059</td>\n",
       "      <td>UOFO11656245339211</td>\n",
       "    </tr>\n",
       "    <tr>\n",
       "      <th>1199</th>\n",
       "      <td>AGENT01200</td>\n",
       "      <td>Virginia Stachura</td>\n",
       "      <td>25-05-1999</td>\n",
       "      <td>3579 2nd Avenue</td>\n",
       "      <td>NaN</td>\n",
       "      <td>Edgewater</td>\n",
       "      <td>MD</td>\n",
       "      <td>21037</td>\n",
       "      <td>12226940</td>\n",
       "      <td>ALYY24945545778511</td>\n",
       "    </tr>\n",
       "  </tbody>\n",
       "</table>\n",
       "<p>1200 rows × 10 columns</p>\n",
       "</div>"
      ],
      "text/plain": [
       "        AGENT_ID         AGENT_NAME DATE_OF_JOINING  \\\n",
       "0     AGENT00001          Ray Johns      05-06-1993   \n",
       "1     AGENT00002      Angelo Borjon      27-12-2005   \n",
       "2     AGENT00003     Candy Spellman      02-09-2003   \n",
       "3     AGENT00004         Mary Smith      23-09-2004   \n",
       "4     AGENT00005       Mildred Diaz      21-06-2011   \n",
       "...          ...                ...             ...   \n",
       "1195  AGENT01196     Myrtle Mccatty      14-09-2005   \n",
       "1196  AGENT01197        John Dorsey      04-12-1993   \n",
       "1197  AGENT01198        Ruth Bigbee      05-09-1993   \n",
       "1198  AGENT01199     Tommie Camacho      25-10-2004   \n",
       "1199  AGENT01200  Virginia Stachura      25-05-1999   \n",
       "\n",
       "                         ADDRESS_LINE1 ADDRESS_LINE2              CITY STATE  \\\n",
       "0                     1402 Maggies Way           NaN  Waterbury Center    VT   \n",
       "1                       414 Tanya Pass           NaN       Panama City    FL   \n",
       "2                  606 National Street          #306      Fayetteville    AR   \n",
       "3                235 Hugh Thomas Drive           NaN       Panama City    FL   \n",
       "4                3426 Broadview Street           NaN        Montgomery    AL   \n",
       "...                                ...           ...               ...   ...   \n",
       "1195  3553 Brandywine Street Northwest           NaN        Washington    DC   \n",
       "1196              2315 Chestnut Street           NaN        Montgomery    AL   \n",
       "1197            1983 Reidsville Street           NaN         Annapolis    MD   \n",
       "1198                  5821 Taft Street           NaN            Arvada    CO   \n",
       "1199                   3579 2nd Avenue           NaN         Edgewater    MD   \n",
       "\n",
       "      POSTAL_CODE  EMP_ROUTING_NUMBER     EMP_ACCT_NUMBER  \n",
       "0            5677            34584958  HKUN51252328472585  \n",
       "1           32404           107363763  OPIS19290040088204  \n",
       "2           72701            81744097  YSCJ67489688482590  \n",
       "3           32404            67563771  ZANG21285355574581  \n",
       "4           36110           114951317  DZFS82244494451134  \n",
       "...           ...                 ...                 ...  \n",
       "1195        20008            32137938  EWBR19907574832501  \n",
       "1196        36107            70796687  KGEJ74846009867837  \n",
       "1197        21401           124993912  RASV88064214164820  \n",
       "1198        80004            19424059  UOFO11656245339211  \n",
       "1199        21037            12226940  ALYY24945545778511  \n",
       "\n",
       "[1200 rows x 10 columns]"
      ]
     },
     "execution_count": 77,
     "metadata": {},
     "output_type": "execute_result"
    }
   ],
   "source": [
    "df"
   ]
  },
  {
   "cell_type": "code",
   "execution_count": 78,
   "id": "cbe95503",
   "metadata": {},
   "outputs": [],
   "source": [
    "df['SUSPICIOUS']=0"
   ]
  },
  {
   "cell_type": "code",
   "execution_count": 79,
   "id": "aaabe3a5",
   "metadata": {},
   "outputs": [],
   "source": [
    "sus_emp_slice = df['AGENT_ID'].isin(suspicious_agents)"
   ]
  },
  {
   "cell_type": "code",
   "execution_count": 80,
   "id": "70a6c97e",
   "metadata": {},
   "outputs": [],
   "source": [
    "# Changing suspicious column value to 1 of suspicious employees\n",
    "df.loc[sus_emp_slice,'SUSPICIOUS']=1"
   ]
  },
  {
   "cell_type": "code",
   "execution_count": 81,
   "id": "5da7915d",
   "metadata": {},
   "outputs": [
    {
     "data": {
      "text/plain": [
       "0.12416666666666666"
      ]
     },
     "execution_count": 81,
     "metadata": {},
     "output_type": "execute_result"
    }
   ],
   "source": [
    "df['SUSPICIOUS'].mean()"
   ]
  },
  {
   "cell_type": "markdown",
   "id": "68f60bdc",
   "metadata": {},
   "source": [
    "The mean of suspicious column is 0.124167 that means from all employees 12.42% are suspicious"
   ]
  },
  {
   "cell_type": "code",
   "execution_count": 1,
   "id": "c582a946",
   "metadata": {},
   "outputs": [
    {
     "name": "stdout",
     "output_type": "stream",
     "text": [
      "Defaulting to user installation because normal site-packages is not writeable\n",
      "Collecting notebook-as-pdf\n",
      "  Downloading notebook_as_pdf-0.5.0-py3-none-any.whl (6.5 kB)\n",
      "Collecting PyPDF2\n",
      "  Downloading PyPDF2-2.11.1-py3-none-any.whl (220 kB)\n",
      "Requirement already satisfied: nbconvert in c:\\programdata\\anaconda3\\lib\\site-packages (from notebook-as-pdf) (6.4.4)\n",
      "Collecting pyppeteer\n",
      "  Downloading pyppeteer-1.0.2-py3-none-any.whl (83 kB)\n",
      "Requirement already satisfied: entrypoints>=0.2.2 in c:\\programdata\\anaconda3\\lib\\site-packages (from nbconvert->notebook-as-pdf) (0.4)\n",
      "Requirement already satisfied: jupyterlab-pygments in c:\\programdata\\anaconda3\\lib\\site-packages (from nbconvert->notebook-as-pdf) (0.1.2)\n",
      "Requirement already satisfied: testpath in c:\\programdata\\anaconda3\\lib\\site-packages (from nbconvert->notebook-as-pdf) (0.5.0)\n",
      "Requirement already satisfied: traitlets>=5.0 in c:\\programdata\\anaconda3\\lib\\site-packages (from nbconvert->notebook-as-pdf) (5.1.1)\n",
      "Requirement already satisfied: pandocfilters>=1.4.1 in c:\\programdata\\anaconda3\\lib\\site-packages (from nbconvert->notebook-as-pdf) (1.5.0)\n",
      "Requirement already satisfied: jinja2>=2.4 in c:\\programdata\\anaconda3\\lib\\site-packages (from nbconvert->notebook-as-pdf) (2.11.3)\n",
      "Requirement already satisfied: jupyter-core in c:\\programdata\\anaconda3\\lib\\site-packages (from nbconvert->notebook-as-pdf) (4.9.2)\n",
      "Requirement already satisfied: nbclient<0.6.0,>=0.5.0 in c:\\programdata\\anaconda3\\lib\\site-packages (from nbconvert->notebook-as-pdf) (0.5.13)\n",
      "Requirement already satisfied: mistune<2,>=0.8.1 in c:\\programdata\\anaconda3\\lib\\site-packages (from nbconvert->notebook-as-pdf) (0.8.4)\n",
      "Requirement already satisfied: defusedxml in c:\\programdata\\anaconda3\\lib\\site-packages (from nbconvert->notebook-as-pdf) (0.7.1)\n",
      "Requirement already satisfied: nbformat>=4.4 in c:\\programdata\\anaconda3\\lib\\site-packages (from nbconvert->notebook-as-pdf) (5.3.0)\n",
      "Requirement already satisfied: pygments>=2.4.1 in c:\\programdata\\anaconda3\\lib\\site-packages (from nbconvert->notebook-as-pdf) (2.11.2)\n",
      "Requirement already satisfied: beautifulsoup4 in c:\\programdata\\anaconda3\\lib\\site-packages (from nbconvert->notebook-as-pdf) (4.11.1)\n",
      "Requirement already satisfied: bleach in c:\\programdata\\anaconda3\\lib\\site-packages (from nbconvert->notebook-as-pdf) (4.1.0)\n",
      "Requirement already satisfied: MarkupSafe>=0.23 in c:\\programdata\\anaconda3\\lib\\site-packages (from jinja2>=2.4->nbconvert->notebook-as-pdf) (2.0.1)\n",
      "Requirement already satisfied: jupyter-client>=6.1.5 in c:\\programdata\\anaconda3\\lib\\site-packages (from nbclient<0.6.0,>=0.5.0->nbconvert->notebook-as-pdf) (6.1.12)\n",
      "Requirement already satisfied: nest-asyncio in c:\\programdata\\anaconda3\\lib\\site-packages (from nbclient<0.6.0,>=0.5.0->nbconvert->notebook-as-pdf) (1.5.5)\n",
      "Requirement already satisfied: pyzmq>=13 in c:\\programdata\\anaconda3\\lib\\site-packages (from jupyter-client>=6.1.5->nbclient<0.6.0,>=0.5.0->nbconvert->notebook-as-pdf) (22.3.0)\n",
      "Requirement already satisfied: python-dateutil>=2.1 in c:\\programdata\\anaconda3\\lib\\site-packages (from jupyter-client>=6.1.5->nbclient<0.6.0,>=0.5.0->nbconvert->notebook-as-pdf) (2.8.2)\n",
      "Requirement already satisfied: tornado>=4.1 in c:\\programdata\\anaconda3\\lib\\site-packages (from jupyter-client>=6.1.5->nbclient<0.6.0,>=0.5.0->nbconvert->notebook-as-pdf) (6.1)\n",
      "Requirement already satisfied: pywin32>=1.0 in c:\\programdata\\anaconda3\\lib\\site-packages (from jupyter-core->nbconvert->notebook-as-pdf) (302)\n",
      "Requirement already satisfied: fastjsonschema in c:\\programdata\\anaconda3\\lib\\site-packages (from nbformat>=4.4->nbconvert->notebook-as-pdf) (2.15.1)\n",
      "Requirement already satisfied: jsonschema>=2.6 in c:\\programdata\\anaconda3\\lib\\site-packages (from nbformat>=4.4->nbconvert->notebook-as-pdf) (4.4.0)\n",
      "Requirement already satisfied: pyrsistent!=0.17.0,!=0.17.1,!=0.17.2,>=0.14.0 in c:\\programdata\\anaconda3\\lib\\site-packages (from jsonschema>=2.6->nbformat>=4.4->nbconvert->notebook-as-pdf) (0.18.0)\n",
      "Requirement already satisfied: attrs>=17.4.0 in c:\\programdata\\anaconda3\\lib\\site-packages (from jsonschema>=2.6->nbformat>=4.4->nbconvert->notebook-as-pdf) (21.4.0)\n",
      "Requirement already satisfied: six>=1.5 in c:\\programdata\\anaconda3\\lib\\site-packages (from python-dateutil>=2.1->jupyter-client>=6.1.5->nbclient<0.6.0,>=0.5.0->nbconvert->notebook-as-pdf) (1.16.0)\n",
      "Requirement already satisfied: soupsieve>1.2 in c:\\programdata\\anaconda3\\lib\\site-packages (from beautifulsoup4->nbconvert->notebook-as-pdf) (2.3.1)\n",
      "Requirement already satisfied: packaging in c:\\programdata\\anaconda3\\lib\\site-packages (from bleach->nbconvert->notebook-as-pdf) (21.3)\n",
      "Requirement already satisfied: webencodings in c:\\programdata\\anaconda3\\lib\\site-packages (from bleach->nbconvert->notebook-as-pdf) (0.5.1)\n",
      "Requirement already satisfied: pyparsing!=3.0.5,>=2.0.2 in c:\\programdata\\anaconda3\\lib\\site-packages (from packaging->bleach->nbconvert->notebook-as-pdf) (3.0.4)\n",
      "Requirement already satisfied: typing-extensions>=3.10.0.0 in c:\\programdata\\anaconda3\\lib\\site-packages (from PyPDF2->notebook-as-pdf) (4.1.1)\n",
      "Collecting websockets<11.0,>=10.0\n",
      "  Downloading websockets-10.4-cp39-cp39-win_amd64.whl (101 kB)\n",
      "Requirement already satisfied: certifi>=2021 in c:\\programdata\\anaconda3\\lib\\site-packages (from pyppeteer->notebook-as-pdf) (2021.10.8)\n",
      "Requirement already satisfied: importlib-metadata>=1.4 in c:\\programdata\\anaconda3\\lib\\site-packages (from pyppeteer->notebook-as-pdf) (4.11.3)\n",
      "Requirement already satisfied: urllib3<2.0.0,>=1.25.8 in c:\\programdata\\anaconda3\\lib\\site-packages (from pyppeteer->notebook-as-pdf) (1.26.9)\n",
      "Requirement already satisfied: appdirs<2.0.0,>=1.4.3 in c:\\programdata\\anaconda3\\lib\\site-packages (from pyppeteer->notebook-as-pdf) (1.4.4)\n",
      "Requirement already satisfied: tqdm<5.0.0,>=4.42.1 in c:\\programdata\\anaconda3\\lib\\site-packages (from pyppeteer->notebook-as-pdf) (4.64.0)\n",
      "Collecting pyee<9.0.0,>=8.1.0\n",
      "  Downloading pyee-8.2.2-py2.py3-none-any.whl (12 kB)\n",
      "Requirement already satisfied: zipp>=0.5 in c:\\programdata\\anaconda3\\lib\\site-packages (from importlib-metadata>=1.4->pyppeteer->notebook-as-pdf) (3.7.0)\n",
      "Requirement already satisfied: colorama in c:\\programdata\\anaconda3\\lib\\site-packages (from tqdm<5.0.0,>=4.42.1->pyppeteer->notebook-as-pdf) (0.4.4)\n",
      "Installing collected packages: websockets, pyee, pyppeteer, PyPDF2, notebook-as-pdf\n",
      "Successfully installed PyPDF2-2.11.1 notebook-as-pdf-0.5.0 pyee-8.2.2 pyppeteer-1.0.2 websockets-10.4\n",
      "Note: you may need to restart the kernel to use updated packages.\n"
     ]
    },
    {
     "name": "stderr",
     "output_type": "stream",
     "text": [
      "  WARNING: The script pyppeteer-install.exe is installed in 'C:\\Users\\harsh\\AppData\\Roaming\\Python\\Python39\\Scripts' which is not on PATH.\n",
      "  Consider adding this directory to PATH or, if you prefer to suppress this warning, use --no-warn-script-location.\n"
     ]
    }
   ],
   "source": [
    "pip install -U notebook-as-pdf"
   ]
  },
  {
   "cell_type": "code",
   "execution_count": 3,
   "id": "a1b8b6a0",
   "metadata": {},
   "outputs": [
    {
     "ename": "NameError",
     "evalue": "name 'pyppeteer' is not defined",
     "output_type": "error",
     "traceback": [
      "\u001b[1;31m---------------------------------------------------------------------------\u001b[0m",
      "\u001b[1;31mNameError\u001b[0m                                 Traceback (most recent call last)",
      "Input \u001b[1;32mIn [3]\u001b[0m, in \u001b[0;36m<cell line: 1>\u001b[1;34m()\u001b[0m\n\u001b[1;32m----> 1\u001b[0m \u001b[43mpyppeteer\u001b[49m\u001b[38;5;241m-\u001b[39minstall\n",
      "\u001b[1;31mNameError\u001b[0m: name 'pyppeteer' is not defined"
     ]
    }
   ],
   "source": [
    "pyppeteer-install\n"
   ]
  },
  {
   "cell_type": "code",
   "execution_count": null,
   "id": "8eeaae85",
   "metadata": {},
   "outputs": [],
   "source": []
  }
 ],
 "metadata": {
  "kernelspec": {
   "display_name": "Python 3 (ipykernel)",
   "language": "python",
   "name": "python3"
  },
  "language_info": {
   "codemirror_mode": {
    "name": "ipython",
    "version": 3
   },
   "file_extension": ".py",
   "mimetype": "text/x-python",
   "name": "python",
   "nbconvert_exporter": "python",
   "pygments_lexer": "ipython3",
   "version": "3.9.12"
  }
 },
 "nbformat": 4,
 "nbformat_minor": 5
}
